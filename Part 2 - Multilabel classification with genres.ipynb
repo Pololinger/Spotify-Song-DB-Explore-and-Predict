{
 "cells": [
  {
   "cell_type": "markdown",
   "metadata": {},
   "source": [
    "# Spotify Songs  - Part 2: Genre classification with sklearn \n",
    "\n",
    "This is the second part of a project with a <a href=\"https://www.kaggle.com/zaheenhamidani/ultimate-spotify-tracks-db/data#\">dataset</a> from Spotify with 232,725 songs, with approximately 10,000 songs per genre. Part 1 explored and visualized the dataset and found that the different genres vary only little in some of the provided variables.\n",
    "\n",
    "#### Variables\n",
    "Genre: Genre of the song e.g. Rock, Rap, Electronic\n",
    "Popularity: Score from 0 to 100\n",
    "Tempo : Measured in Beats Per Minute <br>\n",
    "Energy: The energy of a song - the higher the value, the more energtic.<br>\n",
    "Danceability: The higher the value, the easier it is to dance to this song.<br>\n",
    "Loudness..dB: The higher the value, the louder the song.<br>\n",
    "Liveness: The higher the value, the more likely the song is a live recording.<br>\n",
    "Valence: The higher the value, the more positive mood for the song.<br>\n",
    "Duration_ms: The duration of the song.<br>\n",
    "Acousticness:The higher the value the more acoustic the song is.<br>\n",
    "Speechiness:The higher the value the more spoken word the song contains.<br>\n",
    "Popularity:The higher the value the more popular the song is.<br>\n",
    "key: The key the song was composed in e.g. F#, G, A#<br>\n",
    "mode: The musical scale e.g. minor or major <br>\n"
   ]
  },
  {
   "cell_type": "code",
   "execution_count": 89,
   "metadata": {},
   "outputs": [],
   "source": [
    "import pandas as pd \n",
    "import numpy as np\n",
    "import matplotlib.pyplot as plt\n",
    "import seaborn as sns\n",
    "from sklearn import preprocessing\n",
    "from sklearn.preprocessing import MinMaxScaler\n",
    "from sklearn.model_selection import train_test_split\n",
    "from sklearn.model_selection import StratifiedShuffleSplit\n",
    "from sklearn.ensemble import RandomForestClassifier\n",
    "from sklearn.ensemble import AdaBoostClassifier\n",
    "from sklearn.metrics import classification_report\n",
    "from sklearn import svm \n",
    "from sklearn.neural_network import MLPClassifier"
   ]
  },
  {
   "cell_type": "code",
   "execution_count": 90,
   "metadata": {},
   "outputs": [
    {
     "data": {
      "text/html": [
       "<div>\n",
       "<style scoped>\n",
       "    .dataframe tbody tr th:only-of-type {\n",
       "        vertical-align: middle;\n",
       "    }\n",
       "\n",
       "    .dataframe tbody tr th {\n",
       "        vertical-align: top;\n",
       "    }\n",
       "\n",
       "    .dataframe thead th {\n",
       "        text-align: right;\n",
       "    }\n",
       "</style>\n",
       "<table border=\"1\" class=\"dataframe\">\n",
       "  <thead>\n",
       "    <tr style=\"text-align: right;\">\n",
       "      <th></th>\n",
       "      <th>genre</th>\n",
       "      <th>artist_name</th>\n",
       "      <th>track_name</th>\n",
       "      <th>popularity</th>\n",
       "      <th>acousticness</th>\n",
       "      <th>danceability</th>\n",
       "      <th>duration_ms</th>\n",
       "      <th>energy</th>\n",
       "      <th>instrumentalness</th>\n",
       "      <th>key</th>\n",
       "      <th>liveness</th>\n",
       "      <th>loudness</th>\n",
       "      <th>mode</th>\n",
       "      <th>speechiness</th>\n",
       "      <th>tempo</th>\n",
       "      <th>time_signature</th>\n",
       "      <th>valence</th>\n",
       "    </tr>\n",
       "    <tr>\n",
       "      <th>track_id</th>\n",
       "      <th></th>\n",
       "      <th></th>\n",
       "      <th></th>\n",
       "      <th></th>\n",
       "      <th></th>\n",
       "      <th></th>\n",
       "      <th></th>\n",
       "      <th></th>\n",
       "      <th></th>\n",
       "      <th></th>\n",
       "      <th></th>\n",
       "      <th></th>\n",
       "      <th></th>\n",
       "      <th></th>\n",
       "      <th></th>\n",
       "      <th></th>\n",
       "      <th></th>\n",
       "    </tr>\n",
       "  </thead>\n",
       "  <tbody>\n",
       "    <tr>\n",
       "      <th>6EFsue2YbIG4Qkq8Zr9Rir</th>\n",
       "      <td>Soul</td>\n",
       "      <td>R.LUM.R</td>\n",
       "      <td>With My Words</td>\n",
       "      <td>44</td>\n",
       "      <td>0.2620</td>\n",
       "      <td>0.745</td>\n",
       "      <td>222442</td>\n",
       "      <td>0.704</td>\n",
       "      <td>0.000000</td>\n",
       "      <td>A</td>\n",
       "      <td>0.3330</td>\n",
       "      <td>-7.137</td>\n",
       "      <td>Major</td>\n",
       "      <td>0.1460</td>\n",
       "      <td>100.031</td>\n",
       "      <td>4/4</td>\n",
       "      <td>0.489</td>\n",
       "    </tr>\n",
       "    <tr>\n",
       "      <th>34XO9RwPMKjbvRry54QzWn</th>\n",
       "      <td>Soul</td>\n",
       "      <td>Mint Condition</td>\n",
       "      <td>You Don't Have To Hurt No More</td>\n",
       "      <td>35</td>\n",
       "      <td>0.0973</td>\n",
       "      <td>0.758</td>\n",
       "      <td>323027</td>\n",
       "      <td>0.470</td>\n",
       "      <td>0.000049</td>\n",
       "      <td>G#</td>\n",
       "      <td>0.0836</td>\n",
       "      <td>-6.708</td>\n",
       "      <td>Minor</td>\n",
       "      <td>0.0287</td>\n",
       "      <td>113.897</td>\n",
       "      <td>4/4</td>\n",
       "      <td>0.479</td>\n",
       "    </tr>\n",
       "  </tbody>\n",
       "</table>\n",
       "</div>"
      ],
      "text/plain": [
       "                       genre     artist_name                      track_name  \\\n",
       "track_id                                                                       \n",
       "6EFsue2YbIG4Qkq8Zr9Rir  Soul         R.LUM.R                   With My Words   \n",
       "34XO9RwPMKjbvRry54QzWn  Soul  Mint Condition  You Don't Have To Hurt No More   \n",
       "\n",
       "                        popularity  acousticness  danceability  duration_ms  \\\n",
       "track_id                                                                      \n",
       "6EFsue2YbIG4Qkq8Zr9Rir          44        0.2620         0.745       222442   \n",
       "34XO9RwPMKjbvRry54QzWn          35        0.0973         0.758       323027   \n",
       "\n",
       "                        energy  instrumentalness key  liveness  loudness  \\\n",
       "track_id                                                                   \n",
       "6EFsue2YbIG4Qkq8Zr9Rir   0.704          0.000000   A    0.3330    -7.137   \n",
       "34XO9RwPMKjbvRry54QzWn   0.470          0.000049  G#    0.0836    -6.708   \n",
       "\n",
       "                         mode  speechiness    tempo time_signature  valence  \n",
       "track_id                                                                     \n",
       "6EFsue2YbIG4Qkq8Zr9Rir  Major       0.1460  100.031            4/4    0.489  \n",
       "34XO9RwPMKjbvRry54QzWn  Minor       0.0287  113.897            4/4    0.479  "
      ]
     },
     "execution_count": 90,
     "metadata": {},
     "output_type": "execute_result"
    }
   ],
   "source": [
    "df = pd.read_csv('SpotifyFeatures.csv', index_col = 'track_id')   \n",
    "df.tail(2)"
   ]
  },
  {
   "cell_type": "code",
   "execution_count": 91,
   "metadata": {},
   "outputs": [
    {
     "name": "stdout",
     "output_type": "stream",
     "text": [
      "The number of duplicates is: 0\n",
      "Missing values by variable:\n",
      "genre               0\n",
      "artist_name         0\n",
      "track_name          0\n",
      "popularity          0\n",
      "acousticness        0\n",
      "danceability        0\n",
      "duration_ms         0\n",
      "energy              0\n",
      "instrumentalness    0\n",
      "key                 0\n",
      "liveness            0\n",
      "loudness            0\n",
      "mode                0\n",
      "speechiness         0\n",
      "tempo               0\n",
      "time_signature      0\n",
      "valence             0\n",
      "dtype: int64\n"
     ]
    }
   ],
   "source": [
    "# checking for duplicates and missing values  \n",
    "test = df.duplicated().sum()\n",
    "print('The number of duplicates is:',test)\n",
    "\n",
    "test2 = df.isnull().sum()\n",
    "print(\"Missing values by variable:\")\n",
    "print(test2)"
   ]
  },
  {
   "cell_type": "markdown",
   "metadata": {},
   "source": [
    "#### Dropping two genres\n",
    "There are too few 'A capella' songs, and 'Children's Music' appeared twice with different spelling in the original dataset."
   ]
  },
  {
   "cell_type": "code",
   "execution_count": 92,
   "metadata": {},
   "outputs": [
    {
     "name": "stdout",
     "output_type": "stream",
     "text": [
      "Number of genres: 27\n"
     ]
    }
   ],
   "source": [
    "print('Number of genres:', df['genre'].nunique())\n",
    "df = df[(df.genre != \"A Capella\") & (df.genre != \"Children's Music\")]"
   ]
  },
  {
   "cell_type": "code",
   "execution_count": 93,
   "metadata": {},
   "outputs": [
    {
     "name": "stdout",
     "output_type": "stream",
     "text": [
      "Number of genres after dropping: 25\n"
     ]
    }
   ],
   "source": [
    "print('Number of genres after dropping:', df['genre'].nunique())\n"
   ]
  },
  {
   "cell_type": "markdown",
   "metadata": {},
   "source": [
    "#### Transformation  \n",
    "'mode'(Minor/Major) and 'time_signature' (3/4, 4/4 etc.) get transformed. "
   ]
  },
  {
   "cell_type": "code",
   "execution_count": 94,
   "metadata": {},
   "outputs": [],
   "source": [
    "df[\"mode\"] = df[\"mode\"].astype('category')\n",
    "df['mode_codes'] = df['mode'].cat.codes\n",
    "\n",
    "df[\"time_signature\"] = df[\"time_signature\"].astype('category')\n",
    "df['time_signature_codes'] = df['time_signature'].cat.codes\n",
    "\n",
    "df[\"key\"] = df[\"key\"].astype('category')\n",
    "df['key_codes'] = df['key'].cat.codes\n",
    "\n",
    "#df = pd.get_dummies(df, columns=['key'])   "
   ]
  },
  {
   "cell_type": "code",
   "execution_count": 95,
   "metadata": {},
   "outputs": [
    {
     "data": {
      "text/html": [
       "<div>\n",
       "<style scoped>\n",
       "    .dataframe tbody tr th:only-of-type {\n",
       "        vertical-align: middle;\n",
       "    }\n",
       "\n",
       "    .dataframe tbody tr th {\n",
       "        vertical-align: top;\n",
       "    }\n",
       "\n",
       "    .dataframe thead th {\n",
       "        text-align: right;\n",
       "    }\n",
       "</style>\n",
       "<table border=\"1\" class=\"dataframe\">\n",
       "  <thead>\n",
       "    <tr style=\"text-align: right;\">\n",
       "      <th></th>\n",
       "      <th>genre</th>\n",
       "      <th>artist_name</th>\n",
       "      <th>track_name</th>\n",
       "      <th>popularity</th>\n",
       "      <th>acousticness</th>\n",
       "      <th>danceability</th>\n",
       "      <th>duration_ms</th>\n",
       "      <th>energy</th>\n",
       "      <th>instrumentalness</th>\n",
       "      <th>key</th>\n",
       "      <th>liveness</th>\n",
       "      <th>loudness</th>\n",
       "      <th>mode</th>\n",
       "      <th>speechiness</th>\n",
       "      <th>tempo</th>\n",
       "      <th>time_signature</th>\n",
       "      <th>valence</th>\n",
       "      <th>mode_codes</th>\n",
       "      <th>time_signature_codes</th>\n",
       "      <th>key_codes</th>\n",
       "    </tr>\n",
       "    <tr>\n",
       "      <th>track_id</th>\n",
       "      <th></th>\n",
       "      <th></th>\n",
       "      <th></th>\n",
       "      <th></th>\n",
       "      <th></th>\n",
       "      <th></th>\n",
       "      <th></th>\n",
       "      <th></th>\n",
       "      <th></th>\n",
       "      <th></th>\n",
       "      <th></th>\n",
       "      <th></th>\n",
       "      <th></th>\n",
       "      <th></th>\n",
       "      <th></th>\n",
       "      <th></th>\n",
       "      <th></th>\n",
       "      <th></th>\n",
       "      <th></th>\n",
       "      <th></th>\n",
       "    </tr>\n",
       "  </thead>\n",
       "  <tbody>\n",
       "    <tr>\n",
       "      <th>0BRjO6ga9RKCKjfDqeFgWV</th>\n",
       "      <td>Movie</td>\n",
       "      <td>Henri Salvador</td>\n",
       "      <td>C'est beau de faire un Show</td>\n",
       "      <td>0</td>\n",
       "      <td>0.611</td>\n",
       "      <td>0.389</td>\n",
       "      <td>99373</td>\n",
       "      <td>0.910</td>\n",
       "      <td>0.000</td>\n",
       "      <td>C#</td>\n",
       "      <td>0.3460</td>\n",
       "      <td>-1.828</td>\n",
       "      <td>Major</td>\n",
       "      <td>0.0525</td>\n",
       "      <td>166.969</td>\n",
       "      <td>4/4</td>\n",
       "      <td>0.814</td>\n",
       "      <td>0</td>\n",
       "      <td>3</td>\n",
       "      <td>4</td>\n",
       "    </tr>\n",
       "    <tr>\n",
       "      <th>0BjC1NfoEOOusryehmNudP</th>\n",
       "      <td>Movie</td>\n",
       "      <td>Martin &amp; les fées</td>\n",
       "      <td>Perdu d'avance (par Gad Elmaleh)</td>\n",
       "      <td>1</td>\n",
       "      <td>0.246</td>\n",
       "      <td>0.590</td>\n",
       "      <td>137373</td>\n",
       "      <td>0.737</td>\n",
       "      <td>0.000</td>\n",
       "      <td>F#</td>\n",
       "      <td>0.1510</td>\n",
       "      <td>-5.559</td>\n",
       "      <td>Minor</td>\n",
       "      <td>0.0868</td>\n",
       "      <td>174.003</td>\n",
       "      <td>4/4</td>\n",
       "      <td>0.816</td>\n",
       "      <td>1</td>\n",
       "      <td>3</td>\n",
       "      <td>9</td>\n",
       "    </tr>\n",
       "    <tr>\n",
       "      <th>0CoSDzoNIKCRs124s9uTVy</th>\n",
       "      <td>Movie</td>\n",
       "      <td>Joseph Williams</td>\n",
       "      <td>Don't Let Me Be Lonely Tonight</td>\n",
       "      <td>3</td>\n",
       "      <td>0.952</td>\n",
       "      <td>0.663</td>\n",
       "      <td>170267</td>\n",
       "      <td>0.131</td>\n",
       "      <td>0.000</td>\n",
       "      <td>C</td>\n",
       "      <td>0.1030</td>\n",
       "      <td>-13.879</td>\n",
       "      <td>Minor</td>\n",
       "      <td>0.0362</td>\n",
       "      <td>99.488</td>\n",
       "      <td>5/4</td>\n",
       "      <td>0.368</td>\n",
       "      <td>1</td>\n",
       "      <td>4</td>\n",
       "      <td>3</td>\n",
       "    </tr>\n",
       "    <tr>\n",
       "      <th>0Gc6TVm52BwZD07Ki6tIvf</th>\n",
       "      <td>Movie</td>\n",
       "      <td>Henri Salvador</td>\n",
       "      <td>Dis-moi Monsieur Gordon Cooper</td>\n",
       "      <td>0</td>\n",
       "      <td>0.703</td>\n",
       "      <td>0.240</td>\n",
       "      <td>152427</td>\n",
       "      <td>0.326</td>\n",
       "      <td>0.000</td>\n",
       "      <td>C#</td>\n",
       "      <td>0.0985</td>\n",
       "      <td>-12.178</td>\n",
       "      <td>Major</td>\n",
       "      <td>0.0395</td>\n",
       "      <td>171.758</td>\n",
       "      <td>4/4</td>\n",
       "      <td>0.227</td>\n",
       "      <td>0</td>\n",
       "      <td>3</td>\n",
       "      <td>4</td>\n",
       "    </tr>\n",
       "    <tr>\n",
       "      <th>0IuslXpMROHdEPvSl1fTQK</th>\n",
       "      <td>Movie</td>\n",
       "      <td>Fabien Nataf</td>\n",
       "      <td>Ouverture</td>\n",
       "      <td>4</td>\n",
       "      <td>0.950</td>\n",
       "      <td>0.331</td>\n",
       "      <td>82625</td>\n",
       "      <td>0.225</td>\n",
       "      <td>0.123</td>\n",
       "      <td>F</td>\n",
       "      <td>0.2020</td>\n",
       "      <td>-21.150</td>\n",
       "      <td>Major</td>\n",
       "      <td>0.0456</td>\n",
       "      <td>140.576</td>\n",
       "      <td>4/4</td>\n",
       "      <td>0.390</td>\n",
       "      <td>0</td>\n",
       "      <td>3</td>\n",
       "      <td>8</td>\n",
       "    </tr>\n",
       "  </tbody>\n",
       "</table>\n",
       "</div>"
      ],
      "text/plain": [
       "                        genre        artist_name  \\\n",
       "track_id                                           \n",
       "0BRjO6ga9RKCKjfDqeFgWV  Movie     Henri Salvador   \n",
       "0BjC1NfoEOOusryehmNudP  Movie  Martin & les fées   \n",
       "0CoSDzoNIKCRs124s9uTVy  Movie    Joseph Williams   \n",
       "0Gc6TVm52BwZD07Ki6tIvf  Movie     Henri Salvador   \n",
       "0IuslXpMROHdEPvSl1fTQK  Movie       Fabien Nataf   \n",
       "\n",
       "                                              track_name  popularity  \\\n",
       "track_id                                                               \n",
       "0BRjO6ga9RKCKjfDqeFgWV       C'est beau de faire un Show           0   \n",
       "0BjC1NfoEOOusryehmNudP  Perdu d'avance (par Gad Elmaleh)           1   \n",
       "0CoSDzoNIKCRs124s9uTVy    Don't Let Me Be Lonely Tonight           3   \n",
       "0Gc6TVm52BwZD07Ki6tIvf    Dis-moi Monsieur Gordon Cooper           0   \n",
       "0IuslXpMROHdEPvSl1fTQK                         Ouverture           4   \n",
       "\n",
       "                        acousticness  danceability  duration_ms  energy  \\\n",
       "track_id                                                                  \n",
       "0BRjO6ga9RKCKjfDqeFgWV         0.611         0.389        99373   0.910   \n",
       "0BjC1NfoEOOusryehmNudP         0.246         0.590       137373   0.737   \n",
       "0CoSDzoNIKCRs124s9uTVy         0.952         0.663       170267   0.131   \n",
       "0Gc6TVm52BwZD07Ki6tIvf         0.703         0.240       152427   0.326   \n",
       "0IuslXpMROHdEPvSl1fTQK         0.950         0.331        82625   0.225   \n",
       "\n",
       "                        instrumentalness key  liveness  loudness   mode  \\\n",
       "track_id                                                                  \n",
       "0BRjO6ga9RKCKjfDqeFgWV             0.000  C#    0.3460    -1.828  Major   \n",
       "0BjC1NfoEOOusryehmNudP             0.000  F#    0.1510    -5.559  Minor   \n",
       "0CoSDzoNIKCRs124s9uTVy             0.000   C    0.1030   -13.879  Minor   \n",
       "0Gc6TVm52BwZD07Ki6tIvf             0.000  C#    0.0985   -12.178  Major   \n",
       "0IuslXpMROHdEPvSl1fTQK             0.123   F    0.2020   -21.150  Major   \n",
       "\n",
       "                        speechiness    tempo time_signature  valence  \\\n",
       "track_id                                                               \n",
       "0BRjO6ga9RKCKjfDqeFgWV       0.0525  166.969            4/4    0.814   \n",
       "0BjC1NfoEOOusryehmNudP       0.0868  174.003            4/4    0.816   \n",
       "0CoSDzoNIKCRs124s9uTVy       0.0362   99.488            5/4    0.368   \n",
       "0Gc6TVm52BwZD07Ki6tIvf       0.0395  171.758            4/4    0.227   \n",
       "0IuslXpMROHdEPvSl1fTQK       0.0456  140.576            4/4    0.390   \n",
       "\n",
       "                        mode_codes  time_signature_codes  key_codes  \n",
       "track_id                                                             \n",
       "0BRjO6ga9RKCKjfDqeFgWV           0                     3          4  \n",
       "0BjC1NfoEOOusryehmNudP           1                     3          9  \n",
       "0CoSDzoNIKCRs124s9uTVy           1                     4          3  \n",
       "0Gc6TVm52BwZD07Ki6tIvf           0                     3          4  \n",
       "0IuslXpMROHdEPvSl1fTQK           0                     3          8  "
      ]
     },
     "execution_count": 95,
     "metadata": {},
     "output_type": "execute_result"
    }
   ],
   "source": [
    "df.head()"
   ]
  },
  {
   "cell_type": "markdown",
   "metadata": {},
   "source": [
    "#### Splitting the data"
   ]
  },
  {
   "cell_type": "code",
   "execution_count": 97,
   "metadata": {},
   "outputs": [
    {
     "name": "stdout",
     "output_type": "stream",
     "text": [
      "      0         1         2         3    4         5         6         7  \\\n",
      "0 -1.00  0.226908 -0.285883  0.821818 -1.0 -0.320772  0.801712 -0.935859   \n",
      "1 -0.98 -0.506024  0.146328  0.475465 -1.0 -0.714580  0.668938 -0.863251   \n",
      "\n",
      "          8      9   10   11        12  \n",
      "0  0.285408  0.628 -1.0  0.5 -0.272727  \n",
      "1  0.351603  0.632  1.0  0.5  0.636364  \n"
     ]
    }
   ],
   "source": [
    "Y_df = df['genre']\n",
    "\n",
    "X_df = df.drop(['genre','artist_name','track_name','mode','key','time_signature','duration_ms'], axis=1) \n",
    "\n",
    "\n",
    "scaling = MinMaxScaler(feature_range=(-1,1)).fit(X_df)\n",
    "X_df = scaling.transform(X_df)\n",
    "print(pd.DataFrame(X_df).head(2))"
   ]
  },
  {
   "cell_type": "code",
   "execution_count": 9,
   "metadata": {},
   "outputs": [],
   "source": [
    "x_train, x_test, y_train, y_test = train_test_split(X_df, Y_df, test_size=0.20, random_state=0)"
   ]
  },
  {
   "cell_type": "markdown",
   "metadata": {},
   "source": [
    "### Random Forest "
   ]
  },
  {
   "cell_type": "code",
   "execution_count": 10,
   "metadata": {},
   "outputs": [],
   "source": [
    "from sklearn.model_selection import RandomizedSearchCV\n",
    "n_estimators = [50,100,200,400,600]\n",
    "\n",
    "criterion = ['gini', 'entropy']\n",
    "max_depth = [10,25,50,75,100]\n",
    "bootstrap = [True, False]\n",
    "\n",
    "\n",
    "random_grid = {'n_estimators': n_estimators,\n",
    "               'criterion': criterion,\n",
    "               'max_depth': max_depth,\n",
    "               'bootstrap': bootstrap}\n",
    "\n",
    "### kudso to Will Koehrsen \n",
    "### https://towardsdatascience.com/hyperparameter-tuning-the-random-forest-in-python-using-scikit-learn-28d2aa77dd74"
   ]
  },
  {
   "cell_type": "code",
   "execution_count": 11,
   "metadata": {},
   "outputs": [],
   "source": [
    "rf = RandomForestClassifier()"
   ]
  },
  {
   "cell_type": "code",
   "execution_count": 12,
   "metadata": {},
   "outputs": [
    {
     "name": "stdout",
     "output_type": "stream",
     "text": [
      "Fitting 3 folds for each of 10 candidates, totalling 30 fits\n"
     ]
    },
    {
     "name": "stderr",
     "output_type": "stream",
     "text": [
      "[Parallel(n_jobs=-1)]: Using backend LokyBackend with 12 concurrent workers.\n",
      "[Parallel(n_jobs=-1)]: Done  23 out of  30 | elapsed:  7.2min remaining:  2.2min\n",
      "[Parallel(n_jobs=-1)]: Done  30 out of  30 | elapsed: 13.9min finished\n"
     ]
    },
    {
     "data": {
      "text/plain": [
       "RandomizedSearchCV(cv=3, estimator=RandomForestClassifier(), n_jobs=-1,\n",
       "                   param_distributions={'bootstrap': [True, False],\n",
       "                                        'criterion': ['gini', 'entropy'],\n",
       "                                        'max_depth': [10, 25, 50, 75, 100],\n",
       "                                        'n_estimators': [50, 100, 200, 400,\n",
       "                                                         600]},\n",
       "                   random_state=0, verbose=2)"
      ]
     },
     "execution_count": 12,
     "metadata": {},
     "output_type": "execute_result"
    }
   ],
   "source": [
    "rf_random = RandomizedSearchCV(estimator = rf, param_distributions = random_grid, \n",
    "                               n_iter = 10, cv = 3, verbose=2, random_state=0, n_jobs = -1)\n",
    "# Fit the random search model\n",
    "rf_random.fit(x_train,y_train)"
   ]
  },
  {
   "cell_type": "code",
   "execution_count": 13,
   "metadata": {},
   "outputs": [
    {
     "data": {
      "text/plain": [
       "{'n_estimators': 100,\n",
       " 'max_depth': 10,\n",
       " 'criterion': 'entropy',\n",
       " 'bootstrap': True}"
      ]
     },
     "execution_count": 13,
     "metadata": {},
     "output_type": "execute_result"
    }
   ],
   "source": [
    "rf_random.best_params_\n"
   ]
  },
  {
   "cell_type": "code",
   "execution_count": 14,
   "metadata": {},
   "outputs": [],
   "source": [
    "rf = RandomForestClassifier(n_estimators = 100, n_jobs=-1, criterion = 'entropy',max_depth = 10)"
   ]
  },
  {
   "cell_type": "code",
   "execution_count": 15,
   "metadata": {},
   "outputs": [
    {
     "data": {
      "text/plain": [
       "RandomForestClassifier(criterion='entropy', max_depth=10, n_jobs=-1)"
      ]
     },
     "execution_count": 15,
     "metadata": {},
     "output_type": "execute_result"
    }
   ],
   "source": [
    "rf.fit(x_train,y_train)"
   ]
  },
  {
   "cell_type": "code",
   "execution_count": 16,
   "metadata": {},
   "outputs": [],
   "source": [
    "rf_pred = rf.predict(x_test)"
   ]
  },
  {
   "cell_type": "code",
   "execution_count": 17,
   "metadata": {},
   "outputs": [
    {
     "name": "stdout",
     "output_type": "stream",
     "text": [
      "                  precision    recall  f1-score   support\n",
      "\n",
      "     Alternative       0.28      0.17      0.21      1808\n",
      "           Anime       0.61      0.36      0.45      1814\n",
      "           Blues       0.41      0.31      0.35      1845\n",
      "Children’s Music       0.24      0.19      0.21      1846\n",
      "       Classical       0.59      0.59      0.59      1841\n",
      "          Comedy       0.98      0.93      0.95      1881\n",
      "         Country       0.35      0.37      0.36      1740\n",
      "           Dance       0.18      0.10      0.13      1758\n",
      "      Electronic       0.48      0.54      0.51      1852\n",
      "            Folk       0.24      0.36      0.29      1810\n",
      "         Hip-Hop       0.25      0.48      0.33      1844\n",
      "           Indie       0.20      0.14      0.16      1878\n",
      "            Jazz       0.39      0.31      0.35      1947\n",
      "           Movie       0.65      0.57      0.61      1561\n",
      "           Opera       0.70      0.88      0.78      1696\n",
      "             Pop       0.28      0.43      0.34      1949\n",
      "             R&B       0.22      0.14      0.17      1828\n",
      "             Rap       0.23      0.20      0.22      1843\n",
      "          Reggae       0.37      0.33      0.35      1758\n",
      "       Reggaeton       0.45      0.57      0.50      1769\n",
      "            Rock       0.26      0.49      0.33      1822\n",
      "             Ska       0.49      0.52      0.51      1801\n",
      "            Soul       0.22      0.09      0.13      1854\n",
      "      Soundtrack       0.57      0.72      0.64      1840\n",
      "           World       0.49      0.35      0.41      1856\n",
      "\n",
      "        accuracy                           0.40     45441\n",
      "       macro avg       0.41      0.41      0.40     45441\n",
      "    weighted avg       0.40      0.40      0.39     45441\n",
      "\n"
     ]
    }
   ],
   "source": [
    "print(classification_report(y_test,rf_pred))"
   ]
  },
  {
   "cell_type": "markdown",
   "metadata": {},
   "source": [
    "### AdaBoost"
   ]
  },
  {
   "cell_type": "code",
   "execution_count": 18,
   "metadata": {},
   "outputs": [],
   "source": [
    "ada = AdaBoostClassifier(n_estimators=10,base_estimator=rf, random_state=0) "
   ]
  },
  {
   "cell_type": "code",
   "execution_count": 19,
   "metadata": {
    "scrolled": true
   },
   "outputs": [
    {
     "data": {
      "text/plain": [
       "AdaBoostClassifier(base_estimator=RandomForestClassifier(criterion='entropy',\n",
       "                                                         max_depth=10,\n",
       "                                                         n_jobs=-1),\n",
       "                   n_estimators=10, random_state=0)"
      ]
     },
     "execution_count": 19,
     "metadata": {},
     "output_type": "execute_result"
    }
   ],
   "source": [
    "ada.fit(x_train,y_train)\n"
   ]
  },
  {
   "cell_type": "code",
   "execution_count": 20,
   "metadata": {},
   "outputs": [
    {
     "name": "stdout",
     "output_type": "stream",
     "text": [
      "                  precision    recall  f1-score   support\n",
      "\n",
      "     Alternative       0.27      0.19      0.22      1808\n",
      "           Anime       0.59      0.48      0.53      1814\n",
      "           Blues       0.41      0.42      0.41      1845\n",
      "Children’s Music       0.20      0.15      0.17      1846\n",
      "       Classical       0.64      0.45      0.53      1841\n",
      "          Comedy       0.98      0.93      0.95      1881\n",
      "         Country       0.38      0.38      0.38      1740\n",
      "           Dance       0.19      0.20      0.20      1758\n",
      "      Electronic       0.52      0.55      0.54      1852\n",
      "            Folk       0.22      0.31      0.26      1810\n",
      "         Hip-Hop       0.30      0.35      0.32      1844\n",
      "           Indie       0.14      0.14      0.14      1878\n",
      "            Jazz       0.38      0.38      0.38      1947\n",
      "           Movie       0.60      0.65      0.63      1561\n",
      "           Opera       0.76      0.77      0.77      1696\n",
      "             Pop       0.30      0.16      0.21      1949\n",
      "             R&B       0.19      0.25      0.22      1828\n",
      "             Rap       0.25      0.30      0.28      1843\n",
      "          Reggae       0.44      0.37      0.40      1758\n",
      "       Reggaeton       0.54      0.55      0.55      1769\n",
      "            Rock       0.25      0.41      0.31      1822\n",
      "             Ska       0.56      0.49      0.52      1801\n",
      "            Soul       0.17      0.16      0.16      1854\n",
      "      Soundtrack       0.59      0.71      0.64      1840\n",
      "           World       0.54      0.38      0.45      1856\n",
      "\n",
      "        accuracy                           0.40     45441\n",
      "       macro avg       0.42      0.41      0.41     45441\n",
      "    weighted avg       0.41      0.40      0.40     45441\n",
      "\n"
     ]
    }
   ],
   "source": [
    "ada_pred = ada.predict(x_test)\n",
    "print(classification_report(y_test,ada_pred))"
   ]
  },
  {
   "cell_type": "markdown",
   "metadata": {},
   "source": [
    "#### Precision: What proportion of positive identifications was actually correct?  TP / TP + FP\n",
    "#### Recall: What proportion of actual positives was identified correctly? TP / TP + FN\n",
    "\n",
    "\n",
    "\n",
    "\n",
    "\n",
    "\n",
    "\n"
   ]
  },
  {
   "cell_type": "markdown",
   "metadata": {},
   "source": [
    "### Neural Network"
   ]
  },
  {
   "cell_type": "code",
   "execution_count": 103,
   "metadata": {},
   "outputs": [],
   "source": [
    "random_grid_mlp = {\n",
    "    'hidden_layer_sizes': [(50,50,50), (50,100,50), (100,100,100), (100,200,100)],\n",
    "    'activation': ['tanh', 'relu'],\n",
    "    'solver': ['adam', 'sgd'],\n",
    "    'learning_rate': ['constant','adaptive'],\n",
    "}"
   ]
  },
  {
   "cell_type": "code",
   "execution_count": 104,
   "metadata": {},
   "outputs": [],
   "source": [
    "mlp = MLPClassifier()"
   ]
  },
  {
   "cell_type": "code",
   "execution_count": 105,
   "metadata": {},
   "outputs": [],
   "source": [
    "mlp_random = RandomizedSearchCV(estimator = mlp, param_distributions = random_grid_mlp, \n",
    "                               n_iter = 10, cv = 3, random_state=0, n_jobs = -1)"
   ]
  },
  {
   "cell_type": "code",
   "execution_count": 106,
   "metadata": {},
   "outputs": [
    {
     "name": "stderr",
     "output_type": "stream",
     "text": [
      "C:\\ProgramData\\Anaconda3\\lib\\site-packages\\sklearn\\neural_network\\_multilayer_perceptron.py:582: ConvergenceWarning: Stochastic Optimizer: Maximum iterations (200) reached and the optimization hasn't converged yet.\n",
      "  warnings.warn(\n"
     ]
    },
    {
     "data": {
      "text/plain": [
       "RandomizedSearchCV(cv=3, estimator=MLPClassifier(), n_jobs=-1,\n",
       "                   param_distributions={'activation': ['tanh', 'relu'],\n",
       "                                        'hidden_layer_sizes': [(50, 50, 50),\n",
       "                                                               (50, 100, 50),\n",
       "                                                               (100, 100, 100),\n",
       "                                                               (100, 200, 100)],\n",
       "                                        'learning_rate': ['constant',\n",
       "                                                          'adaptive'],\n",
       "                                        'solver': ['adam', 'sgd']},\n",
       "                   random_state=0)"
      ]
     },
     "execution_count": 106,
     "metadata": {},
     "output_type": "execute_result"
    }
   ],
   "source": [
    "mlp_random.fit(x_train,y_train)"
   ]
  },
  {
   "cell_type": "code",
   "execution_count": 107,
   "metadata": {},
   "outputs": [
    {
     "data": {
      "text/plain": [
       "{'solver': 'adam',\n",
       " 'learning_rate': 'adaptive',\n",
       " 'hidden_layer_sizes': (50, 50, 50),\n",
       " 'activation': 'tanh'}"
      ]
     },
     "execution_count": 107,
     "metadata": {},
     "output_type": "execute_result"
    }
   ],
   "source": [
    "mlp_random.best_params_"
   ]
  },
  {
   "cell_type": "code",
   "execution_count": 27,
   "metadata": {},
   "outputs": [],
   "source": [
    "nn = MLPClassifier(hidden_layer_sizes=(50,50,50),activation = 'tanh\n",
    "                   ',max_iter=100)"
   ]
  },
  {
   "cell_type": "code",
   "execution_count": 28,
   "metadata": {},
   "outputs": [
    {
     "name": "stderr",
     "output_type": "stream",
     "text": [
      "C:\\ProgramData\\Anaconda3\\lib\\site-packages\\sklearn\\neural_network\\_multilayer_perceptron.py:582: ConvergenceWarning: Stochastic Optimizer: Maximum iterations (100) reached and the optimization hasn't converged yet.\n",
      "  warnings.warn(\n"
     ]
    }
   ],
   "source": [
    "nn.fit(x_train,y_train)\n",
    "nn_pred = nn.predict(x_test)"
   ]
  },
  {
   "cell_type": "code",
   "execution_count": 29,
   "metadata": {},
   "outputs": [
    {
     "name": "stdout",
     "output_type": "stream",
     "text": [
      "                  precision    recall  f1-score   support\n",
      "\n",
      "     Alternative       0.30      0.20      0.24      1808\n",
      "           Anime       0.61      0.55      0.58      1814\n",
      "           Blues       0.43      0.34      0.38      1845\n",
      "Children’s Music       0.27      0.14      0.18      1846\n",
      "       Classical       0.58      0.60      0.59      1841\n",
      "          Comedy       0.97      0.94      0.95      1881\n",
      "         Country       0.36      0.43      0.39      1740\n",
      "           Dance       0.21      0.17      0.19      1758\n",
      "      Electronic       0.57      0.52      0.54      1852\n",
      "            Folk       0.26      0.36      0.30      1810\n",
      "         Hip-Hop       0.31      0.31      0.31      1844\n",
      "           Indie       0.21      0.14      0.17      1878\n",
      "            Jazz       0.39      0.43      0.41      1947\n",
      "           Movie       0.73      0.56      0.63      1561\n",
      "           Opera       0.76      0.83      0.80      1696\n",
      "             Pop       0.30      0.43      0.35      1949\n",
      "             R&B       0.24      0.27      0.25      1828\n",
      "             Rap       0.28      0.36      0.31      1843\n",
      "          Reggae       0.43      0.43      0.43      1758\n",
      "       Reggaeton       0.51      0.62      0.56      1769\n",
      "            Rock       0.26      0.56      0.35      1822\n",
      "             Ska       0.63      0.45      0.53      1801\n",
      "            Soul       0.27      0.07      0.11      1854\n",
      "      Soundtrack       0.59      0.73      0.65      1840\n",
      "           World       0.51      0.39      0.44      1856\n",
      "\n",
      "        accuracy                           0.43     45441\n",
      "       macro avg       0.44      0.43      0.43     45441\n",
      "    weighted avg       0.44      0.43      0.42     45441\n",
      "\n"
     ]
    }
   ],
   "source": [
    "print(classification_report(y_test,nn_pred))"
   ]
  },
  {
   "cell_type": "markdown",
   "metadata": {},
   "source": [
    "### Why is the performance so poor? "
   ]
  },
  {
   "cell_type": "markdown",
   "metadata": {},
   "source": [
    "We see that genres that the models performed best for genres that are easy to distinguish from others, such as 'comedy' or 'opera'. However, almost all other genres (25 in total) aren't as easily distinguishable from each other with the given variables. Let's visualize the mean value of each genre across all variables, and see if the problem discovered in Part 1 extends to more variables. For that we need to get tempo and the code variables on a scale from 0 to 1 like most other variables already are."
   ]
  },
  {
   "cell_type": "code",
   "execution_count": 56,
   "metadata": {},
   "outputs": [],
   "source": [
    "df2 = df \n",
    "df2.reset_index(level=0, inplace=True)\n",
    "\n",
    "scaler = MinMaxScaler()\n",
    "\n",
    "df2[['popularity','time_signature_codes','key_codes','tempo','loudness']] = scaler.fit_transform(df2[['popularity','time_signature_codes','key_codes','tempo','loudness']])\n",
    "df2 = df2.drop(['track_id','artist_name','track_name','duration_ms','key','mode','time_signature'], axis = 1)"
   ]
  },
  {
   "cell_type": "code",
   "execution_count": 57,
   "metadata": {},
   "outputs": [],
   "source": [
    "df3 = df2.groupby(['genre']).mean()\n",
    "df3.reset_index(level=0, inplace=True)"
   ]
  },
  {
   "cell_type": "code",
   "execution_count": 58,
   "metadata": {},
   "outputs": [],
   "source": [
    "df3 = pd.melt(df3, \"genre\", var_name=\"measurement\")"
   ]
  },
  {
   "cell_type": "code",
   "execution_count": 59,
   "metadata": {
    "scrolled": false
   },
   "outputs": [
    {
     "data": {
      "text/plain": [
       "<matplotlib.legend.Legend at 0x1d5ac0d9ac0>"
      ]
     },
     "execution_count": 59,
     "metadata": {},
     "output_type": "execute_result"
    },
    {
     "data": {
      "image/png": "[encoded data removed]",
      "text/plain": [
       "<Figure size 1080x720 with 1 Axes>"
      ]
     },
     "metadata": {
      "needs_background": "light"
     },
     "output_type": "display_data"
    }
   ],
   "source": [
    "f, ax = plt.subplots(figsize=(15, 10))\n",
    "ax.tick_params(labelsize = 8.5)\n",
    "ax.set_title('Mean of the variables per genre used to make predictions', fontsize = 15)\n",
    "sns.swarmplot(x=\"measurement\", y=\"value\", hue=\"genre\",data=df3)\n",
    "plt.legend(bbox_to_anchor=(1.05, 1), loc=2, borderaxespad=0.)\n"
   ]
  },
  {
   "cell_type": "code",
   "execution_count": 60,
   "metadata": {},
   "outputs": [
    {
     "name": "stdout",
     "output_type": "stream",
     "text": [
      "<class 'pandas.core.frame.DataFrame'>\n",
      "RangeIndex: 325 entries, 0 to 324\n",
      "Data columns (total 3 columns):\n",
      " #   Column       Non-Null Count  Dtype  \n",
      "---  ------       --------------  -----  \n",
      " 0   genre        325 non-null    object \n",
      " 1   measurement  325 non-null    object \n",
      " 2   value        325 non-null    float64\n",
      "dtypes: float64(1), object(2)\n",
      "memory usage: 7.7+ KB\n"
     ]
    }
   ],
   "source": [
    "df3.info()"
   ]
  },
  {
   "cell_type": "markdown",
   "metadata": {},
   "source": [
    "### Narrowing it down \n",
    "#### Let's see if we can get a better result by reducing the df to hanfull of genres. First, let's visualize this smaller sample again. "
   ]
  },
  {
   "cell_type": "code",
   "execution_count": 67,
   "metadata": {},
   "outputs": [],
   "source": [
    "df_genres = df3.loc[(df3['genre'] == 'Rock') | (df3['genre'] == 'Electronic') | (df3['genre'] == 'Opera') \n",
    "        | (df3['genre'] == 'Classical') | (df3['genre'] == 'Rap')]"
   ]
  },
  {
   "cell_type": "code",
   "execution_count": 68,
   "metadata": {},
   "outputs": [
    {
     "data": {
      "text/plain": [
       "<matplotlib.legend.Legend at 0x1d5851d9940>"
      ]
     },
     "execution_count": 68,
     "metadata": {},
     "output_type": "execute_result"
    },
    {
     "data": {
      "image/png": "[encoded data removed]",
      "text/plain": [
       "<Figure size 1080x720 with 1 Axes>"
      ]
     },
     "metadata": {
      "needs_background": "light"
     },
     "output_type": "display_data"
    }
   ],
   "source": [
    "f, ax = plt.subplots(figsize=(15, 10))\n",
    "ax.tick_params(labelsize = 8.5)\n",
    "ax.set_title('Mean of the variables per genre used to make predictions', fontsize = 15)\n",
    "sns.swarmplot(x=\"measurement\", y=\"value\", hue=\"genre\",data=df4)\n",
    "plt.legend(bbox_to_anchor=(1.05, 1), loc=2, borderaxespad=0.)"
   ]
  },
  {
   "cell_type": "code",
   "execution_count": 78,
   "metadata": {},
   "outputs": [],
   "source": [
    "df_few = df.loc[(df['genre'] == 'Rock') | (df['genre'] == 'Electronic') | (df['genre'] == 'Opera') \n",
    "        | (df['genre'] == 'Classical') | (df['genre'] == 'Rap')]"
   ]
  },
  {
   "cell_type": "code",
   "execution_count": 79,
   "metadata": {},
   "outputs": [
    {
     "data": {
      "text/plain": [
       "Electronic    9377\n",
       "Rock          9272\n",
       "Classical     9256\n",
       "Rap           9232\n",
       "Opera         8280\n",
       "Name: genre, dtype: int64"
      ]
     },
     "execution_count": 79,
     "metadata": {},
     "output_type": "execute_result"
    }
   ],
   "source": [
    "df_few['genre'].value_counts()"
   ]
  },
  {
   "cell_type": "code",
   "execution_count": 83,
   "metadata": {},
   "outputs": [
    {
     "name": "stdout",
     "output_type": "stream",
     "text": [
      "          0         1         2         3         4         5         6  \\\n",
      "0  0.939394 -0.692773  0.685616  0.597589 -0.999993 -0.899190  0.764517   \n",
      "1  0.656566 -0.845183  0.278639  0.427416 -0.999979 -0.732794  0.719584   \n",
      "\n",
      "          7         8         9   10   11        12  \n",
      "0 -0.546233 -0.389912  0.191532  1.0  0.5 -0.272727  \n",
      "1 -0.968373 -0.349682 -0.693548 -1.0  0.5  1.000000  \n"
     ]
    }
   ],
   "source": [
    "Y_df = df_few['genre']\n",
    "\n",
    "X_df = df_few.drop(['genre','artist_name','track_name','mode','key','time_signature','duration_ms'], axis=1) \n",
    "\n",
    "\n",
    "scaling = MinMaxScaler(feature_range=(-1,1)).fit(X_df)\n",
    "X_df = scaling.transform(X_df)\n",
    "print(pd.DataFrame(X_df).head(2))"
   ]
  },
  {
   "cell_type": "code",
   "execution_count": 85,
   "metadata": {},
   "outputs": [],
   "source": [
    "x_train, x_test, y_train, y_test = train_test_split(X_df, Y_df, test_size=0.20, random_state=0)"
   ]
  },
  {
   "cell_type": "code",
   "execution_count": 86,
   "metadata": {},
   "outputs": [],
   "source": [
    "rf = RandomForestClassifier(n_estimators = 100, n_jobs=-1, criterion = 'entropy',max_depth = 10)"
   ]
  },
  {
   "cell_type": "code",
   "execution_count": 87,
   "metadata": {},
   "outputs": [],
   "source": [
    "rf.fit(x_train,y_train)\n",
    "rf_pred = rf.predict(x_test)"
   ]
  },
  {
   "cell_type": "code",
   "execution_count": 88,
   "metadata": {},
   "outputs": [
    {
     "name": "stdout",
     "output_type": "stream",
     "text": [
      "              precision    recall  f1-score   support\n",
      "\n",
      "   Classical       0.89      0.83      0.86      1833\n",
      "  Electronic       0.90      0.89      0.89      1876\n",
      "       Opera       0.91      0.91      0.91      1683\n",
      "         Rap       0.87      0.83      0.85      1795\n",
      "        Rock       0.79      0.89      0.84      1897\n",
      "\n",
      "    accuracy                           0.87      9084\n",
      "   macro avg       0.87      0.87      0.87      9084\n",
      "weighted avg       0.87      0.87      0.87      9084\n",
      "\n"
     ]
    }
   ],
   "source": [
    "print(classification_report(y_test,rf_pred))"
   ]
  },
  {
   "cell_type": "markdown",
   "metadata": {},
   "source": [
    "#### Narrowing it down to five genres that to human ears clearly are distinct from each other, helped improving the performance of the classifier. "
   ]
  }
 ],
 "metadata": {
  "kernelspec": {
   "display_name": "Python 3",
   "language": "python",
   "name": "python3"
  },
  "language_info": {
   "codemirror_mode": {
    "name": "ipython",
    "version": 3
   },
   "file_extension": ".py",
   "mimetype": "text/x-python",
   "name": "python",
   "nbconvert_exporter": "python",
   "pygments_lexer": "ipython3",
   "version": "3.8.3"
  }
 },
 "nbformat": 4,
 "nbformat_minor": 2
}
