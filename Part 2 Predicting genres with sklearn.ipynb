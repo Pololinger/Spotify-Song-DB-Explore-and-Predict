{
 "cells": [
  {
   "cell_type": "markdown",
   "metadata": {},
   "source": [
    "# Spotify Songs  - Part 2: Classification with sklearn \n",
    "\n",
    "This is the second part of a project with a <a href=\"https://www.kaggle.com/zaheenhamidani/ultimate-spotify-tracks-db/data#\">dataset</a> from Spotify with 235,725 songs, with approximately 10,000 songs per genre. Part 1 explored and visualized the dataset and found that the different genres vary only little in some of the provided variables.\n",
    "\n",
    "#### Variables\n",
    "Genre: Genre of the song e.g. Rock, Rap, Electronic\n",
    "Popularity: Score from 0 to 100\n",
    "Tempo : Measured in Beats Per Minute <br>\n",
    "Energy: The energy of a song - the higher the value, the more energtic.<br>\n",
    "Danceability: The higher the value, the easier it is to dance to this song.<br>\n",
    "Loudness..dB: The higher the value, the louder the song.<br>\n",
    "Liveness: The higher the value, the more likely the song is a live recording.<br>\n",
    "Valence: The higher the value, the more positive mood for the song.<br>\n",
    "Duration_ms: The duration of the song.<br>\n",
    "Acousticness:The higher the value the more acoustic the song is.<br>\n",
    "Speechiness:The higher the value the more spoken word the song contains.<br>\n",
    "Popularity:The higher the value the more popular the song is.<br>\n",
    "key: The key the song was composed in e.g. F#, G, A#<br>\n",
    "mode: The musical scale e.g. minor or major <br>\n"
   ]
  },
  {
   "cell_type": "code",
   "execution_count": 1,
   "metadata": {},
   "outputs": [],
   "source": [
    "import pandas as pd \n",
    "import numpy as np\n",
    "import matplotlib.pyplot as plt\n",
    "import seaborn as sns\n",
    "from sklearn import preprocessing\n",
    "from sklearn.preprocessing import MinMaxScaler\n",
    "from sklearn.model_selection import train_test_split\n",
    "from sklearn.model_selection import StratifiedShuffleSplit\n",
    "from sklearn.ensemble import RandomForestClassifier\n",
    "from sklearn.metrics import classification_report\n",
    "from sklearn import svm \n",
    "from sklearn.neural_network import MLPClassifier"
   ]
  },
  {
   "cell_type": "code",
   "execution_count": 2,
   "metadata": {},
   "outputs": [
    {
     "data": {
      "text/html": [
       "<div>\n",
       "<style scoped>\n",
       "    .dataframe tbody tr th:only-of-type {\n",
       "        vertical-align: middle;\n",
       "    }\n",
       "\n",
       "    .dataframe tbody tr th {\n",
       "        vertical-align: top;\n",
       "    }\n",
       "\n",
       "    .dataframe thead th {\n",
       "        text-align: right;\n",
       "    }\n",
       "</style>\n",
       "<table border=\"1\" class=\"dataframe\">\n",
       "  <thead>\n",
       "    <tr style=\"text-align: right;\">\n",
       "      <th></th>\n",
       "      <th>genre</th>\n",
       "      <th>artist_name</th>\n",
       "      <th>track_name</th>\n",
       "      <th>popularity</th>\n",
       "      <th>acousticness</th>\n",
       "      <th>danceability</th>\n",
       "      <th>duration_ms</th>\n",
       "      <th>energy</th>\n",
       "      <th>instrumentalness</th>\n",
       "      <th>key</th>\n",
       "      <th>liveness</th>\n",
       "      <th>loudness</th>\n",
       "      <th>mode</th>\n",
       "      <th>speechiness</th>\n",
       "      <th>tempo</th>\n",
       "      <th>time_signature</th>\n",
       "      <th>valence</th>\n",
       "    </tr>\n",
       "    <tr>\n",
       "      <th>track_id</th>\n",
       "      <th></th>\n",
       "      <th></th>\n",
       "      <th></th>\n",
       "      <th></th>\n",
       "      <th></th>\n",
       "      <th></th>\n",
       "      <th></th>\n",
       "      <th></th>\n",
       "      <th></th>\n",
       "      <th></th>\n",
       "      <th></th>\n",
       "      <th></th>\n",
       "      <th></th>\n",
       "      <th></th>\n",
       "      <th></th>\n",
       "      <th></th>\n",
       "      <th></th>\n",
       "    </tr>\n",
       "  </thead>\n",
       "  <tbody>\n",
       "    <tr>\n",
       "      <th>0BRjO6ga9RKCKjfDqeFgWV</th>\n",
       "      <td>Movie</td>\n",
       "      <td>Henri Salvador</td>\n",
       "      <td>C'est beau de faire un Show</td>\n",
       "      <td>0</td>\n",
       "      <td>0.611</td>\n",
       "      <td>0.389</td>\n",
       "      <td>99373</td>\n",
       "      <td>0.910</td>\n",
       "      <td>0.000</td>\n",
       "      <td>C#</td>\n",
       "      <td>0.3460</td>\n",
       "      <td>-1.828</td>\n",
       "      <td>Major</td>\n",
       "      <td>0.0525</td>\n",
       "      <td>166.969</td>\n",
       "      <td>4/4</td>\n",
       "      <td>0.814</td>\n",
       "    </tr>\n",
       "    <tr>\n",
       "      <th>0BjC1NfoEOOusryehmNudP</th>\n",
       "      <td>Movie</td>\n",
       "      <td>Martin &amp; les fées</td>\n",
       "      <td>Perdu d'avance (par Gad Elmaleh)</td>\n",
       "      <td>1</td>\n",
       "      <td>0.246</td>\n",
       "      <td>0.590</td>\n",
       "      <td>137373</td>\n",
       "      <td>0.737</td>\n",
       "      <td>0.000</td>\n",
       "      <td>F#</td>\n",
       "      <td>0.1510</td>\n",
       "      <td>-5.559</td>\n",
       "      <td>Minor</td>\n",
       "      <td>0.0868</td>\n",
       "      <td>174.003</td>\n",
       "      <td>4/4</td>\n",
       "      <td>0.816</td>\n",
       "    </tr>\n",
       "    <tr>\n",
       "      <th>0CoSDzoNIKCRs124s9uTVy</th>\n",
       "      <td>Movie</td>\n",
       "      <td>Joseph Williams</td>\n",
       "      <td>Don't Let Me Be Lonely Tonight</td>\n",
       "      <td>3</td>\n",
       "      <td>0.952</td>\n",
       "      <td>0.663</td>\n",
       "      <td>170267</td>\n",
       "      <td>0.131</td>\n",
       "      <td>0.000</td>\n",
       "      <td>C</td>\n",
       "      <td>0.1030</td>\n",
       "      <td>-13.879</td>\n",
       "      <td>Minor</td>\n",
       "      <td>0.0362</td>\n",
       "      <td>99.488</td>\n",
       "      <td>5/4</td>\n",
       "      <td>0.368</td>\n",
       "    </tr>\n",
       "    <tr>\n",
       "      <th>0Gc6TVm52BwZD07Ki6tIvf</th>\n",
       "      <td>Movie</td>\n",
       "      <td>Henri Salvador</td>\n",
       "      <td>Dis-moi Monsieur Gordon Cooper</td>\n",
       "      <td>0</td>\n",
       "      <td>0.703</td>\n",
       "      <td>0.240</td>\n",
       "      <td>152427</td>\n",
       "      <td>0.326</td>\n",
       "      <td>0.000</td>\n",
       "      <td>C#</td>\n",
       "      <td>0.0985</td>\n",
       "      <td>-12.178</td>\n",
       "      <td>Major</td>\n",
       "      <td>0.0395</td>\n",
       "      <td>171.758</td>\n",
       "      <td>4/4</td>\n",
       "      <td>0.227</td>\n",
       "    </tr>\n",
       "    <tr>\n",
       "      <th>0IuslXpMROHdEPvSl1fTQK</th>\n",
       "      <td>Movie</td>\n",
       "      <td>Fabien Nataf</td>\n",
       "      <td>Ouverture</td>\n",
       "      <td>4</td>\n",
       "      <td>0.950</td>\n",
       "      <td>0.331</td>\n",
       "      <td>82625</td>\n",
       "      <td>0.225</td>\n",
       "      <td>0.123</td>\n",
       "      <td>F</td>\n",
       "      <td>0.2020</td>\n",
       "      <td>-21.150</td>\n",
       "      <td>Major</td>\n",
       "      <td>0.0456</td>\n",
       "      <td>140.576</td>\n",
       "      <td>4/4</td>\n",
       "      <td>0.390</td>\n",
       "    </tr>\n",
       "  </tbody>\n",
       "</table>\n",
       "</div>"
      ],
      "text/plain": [
       "                        genre        artist_name  \\\n",
       "track_id                                           \n",
       "0BRjO6ga9RKCKjfDqeFgWV  Movie     Henri Salvador   \n",
       "0BjC1NfoEOOusryehmNudP  Movie  Martin & les fées   \n",
       "0CoSDzoNIKCRs124s9uTVy  Movie    Joseph Williams   \n",
       "0Gc6TVm52BwZD07Ki6tIvf  Movie     Henri Salvador   \n",
       "0IuslXpMROHdEPvSl1fTQK  Movie       Fabien Nataf   \n",
       "\n",
       "                                              track_name  popularity  \\\n",
       "track_id                                                               \n",
       "0BRjO6ga9RKCKjfDqeFgWV       C'est beau de faire un Show           0   \n",
       "0BjC1NfoEOOusryehmNudP  Perdu d'avance (par Gad Elmaleh)           1   \n",
       "0CoSDzoNIKCRs124s9uTVy    Don't Let Me Be Lonely Tonight           3   \n",
       "0Gc6TVm52BwZD07Ki6tIvf    Dis-moi Monsieur Gordon Cooper           0   \n",
       "0IuslXpMROHdEPvSl1fTQK                         Ouverture           4   \n",
       "\n",
       "                        acousticness  danceability  duration_ms  energy  \\\n",
       "track_id                                                                  \n",
       "0BRjO6ga9RKCKjfDqeFgWV         0.611         0.389        99373   0.910   \n",
       "0BjC1NfoEOOusryehmNudP         0.246         0.590       137373   0.737   \n",
       "0CoSDzoNIKCRs124s9uTVy         0.952         0.663       170267   0.131   \n",
       "0Gc6TVm52BwZD07Ki6tIvf         0.703         0.240       152427   0.326   \n",
       "0IuslXpMROHdEPvSl1fTQK         0.950         0.331        82625   0.225   \n",
       "\n",
       "                        instrumentalness key  liveness  loudness   mode  \\\n",
       "track_id                                                                  \n",
       "0BRjO6ga9RKCKjfDqeFgWV             0.000  C#    0.3460    -1.828  Major   \n",
       "0BjC1NfoEOOusryehmNudP             0.000  F#    0.1510    -5.559  Minor   \n",
       "0CoSDzoNIKCRs124s9uTVy             0.000   C    0.1030   -13.879  Minor   \n",
       "0Gc6TVm52BwZD07Ki6tIvf             0.000  C#    0.0985   -12.178  Major   \n",
       "0IuslXpMROHdEPvSl1fTQK             0.123   F    0.2020   -21.150  Major   \n",
       "\n",
       "                        speechiness    tempo time_signature  valence  \n",
       "track_id                                                              \n",
       "0BRjO6ga9RKCKjfDqeFgWV       0.0525  166.969            4/4    0.814  \n",
       "0BjC1NfoEOOusryehmNudP       0.0868  174.003            4/4    0.816  \n",
       "0CoSDzoNIKCRs124s9uTVy       0.0362   99.488            5/4    0.368  \n",
       "0Gc6TVm52BwZD07Ki6tIvf       0.0395  171.758            4/4    0.227  \n",
       "0IuslXpMROHdEPvSl1fTQK       0.0456  140.576            4/4    0.390  "
      ]
     },
     "execution_count": 2,
     "metadata": {},
     "output_type": "execute_result"
    }
   ],
   "source": [
    "df = pd.read_csv('SpotifyFeatures.csv', index_col = \"track_id\")   \n",
    "df.head()"
   ]
  },
  {
   "cell_type": "code",
   "execution_count": 3,
   "metadata": {},
   "outputs": [
    {
     "name": "stdout",
     "output_type": "stream",
     "text": [
      "The number of duplicates is: 0\n",
      "Missing values by variable:\n",
      "genre               0\n",
      "artist_name         0\n",
      "track_name          0\n",
      "popularity          0\n",
      "acousticness        0\n",
      "danceability        0\n",
      "duration_ms         0\n",
      "energy              0\n",
      "instrumentalness    0\n",
      "key                 0\n",
      "liveness            0\n",
      "loudness            0\n",
      "mode                0\n",
      "speechiness         0\n",
      "tempo               0\n",
      "time_signature      0\n",
      "valence             0\n",
      "dtype: int64\n"
     ]
    }
   ],
   "source": [
    "# checking for duplicates and missing values  \n",
    "test = df.duplicated().sum()\n",
    "print('The number of duplicates is:',test)\n",
    "\n",
    "test2 = df.isnull().sum()\n",
    "print(\"Missing values by variable:\")\n",
    "print(test2)"
   ]
  },
  {
   "cell_type": "markdown",
   "metadata": {},
   "source": [
    "#### Dropping two genres\n",
    "There are too few A capella songs, and Children's Music appeared twice in the original dataset."
   ]
  },
  {
   "cell_type": "code",
   "execution_count": 4,
   "metadata": {},
   "outputs": [],
   "source": [
    "df = df[(df.genre != \"A Capella\") & (df.genre != \"Children's Music\")]"
   ]
  },
  {
   "cell_type": "markdown",
   "metadata": {},
   "source": [
    "#### Transformation & Normalization  \n",
    "'mode'(Minor/Major), 'time_signature' (3/4, 4/4 etc.), get transformed. 'tempo' which is measured in Beats per Minute(BPM) e.g. 160 gets normalized as most other variables are already on a scale from 0 to 1. "
   ]
  },
  {
   "cell_type": "code",
   "execution_count": 5,
   "metadata": {},
   "outputs": [],
   "source": [
    "df[\"mode\"] = df[\"mode\"].astype('category')\n",
    "df['mode_codes'] = df['mode'].cat.codes\n",
    "\n",
    "df[\"time_signature\"] = df[\"time_signature\"].astype('category')\n",
    "df['time_signature_codes'] = df['time_signature'].cat.codes\n",
    "\n",
    "df[\"key\"] = df[\"key\"].astype('category')\n",
    "df['key_codes'] = df['key'].cat.codes"
   ]
  },
  {
   "cell_type": "markdown",
   "metadata": {},
   "source": [
    "#### Splitting the data"
   ]
  },
  {
   "cell_type": "code",
   "execution_count": 6,
   "metadata": {},
   "outputs": [],
   "source": [
    "Y_df = df['genre']\n",
    "\n",
    "X_df = df.drop(['genre','artist_name','track_name','duration_ms','loudness','key','mode','time_signature'], axis=1)\n",
    "\n",
    "scaling = MinMaxScaler(feature_range=(-1,1)).fit(X_df)\n",
    "X_df = scaling.transform(X_df)"
   ]
  },
  {
   "cell_type": "code",
   "execution_count": 7,
   "metadata": {},
   "outputs": [],
   "source": [
    "x_train, x_test, y_train, y_test = train_test_split(X_df, Y_df, test_size=0.30, random_state=0, stratify = df['genre'])\n"
   ]
  },
  {
   "cell_type": "markdown",
   "metadata": {},
   "source": [
    "### Random Forest "
   ]
  },
  {
   "cell_type": "code",
   "execution_count": 8,
   "metadata": {},
   "outputs": [],
   "source": [
    "rf = RandomForestClassifier(n_estimators = 10)"
   ]
  },
  {
   "cell_type": "code",
   "execution_count": 9,
   "metadata": {},
   "outputs": [],
   "source": [
    "rf.fit(x_train,y_train)\n",
    "rf_pred = rf.predict(x_test)"
   ]
  },
  {
   "cell_type": "code",
   "execution_count": 10,
   "metadata": {},
   "outputs": [
    {
     "name": "stdout",
     "output_type": "stream",
     "text": [
      "                  precision    recall  f1-score   support\n",
      "\n",
      "     Alternative       0.15      0.16      0.15      2779\n",
      "           Anime       0.44      0.46      0.45      2681\n",
      "           Blues       0.31      0.36      0.33      2707\n",
      "Children’s Music       0.04      0.05      0.05      2806\n",
      "       Classical       0.53      0.55      0.54      2777\n",
      "          Comedy       0.96      0.94      0.95      2904\n",
      "         Country       0.30      0.32      0.31      2599\n",
      "           Dance       0.09      0.08      0.09      2610\n",
      "      Electronic       0.46      0.47      0.46      2813\n",
      "            Folk       0.14      0.14      0.14      2790\n",
      "         Hip-Hop       0.12      0.13      0.12      2788\n",
      "           Indie       0.04      0.04      0.04      2863\n",
      "            Jazz       0.30      0.27      0.28      2832\n",
      "           Movie       0.62      0.59      0.61      2342\n",
      "           Opera       0.74      0.80      0.77      2484\n",
      "             Pop       0.10      0.10      0.10      2816\n",
      "             R&B       0.08      0.08      0.08      2697\n",
      "             Rap       0.06      0.07      0.07      2770\n",
      "          Reggae       0.35      0.31      0.33      2631\n",
      "       Reggaeton       0.55      0.51      0.53      2678\n",
      "            Rock       0.09      0.10      0.10      2782\n",
      "             Ska       0.49      0.42      0.45      2662\n",
      "            Soul       0.09      0.08      0.08      2727\n",
      "      Soundtrack       0.57      0.62      0.60      2894\n",
      "           World       0.43      0.31      0.36      2729\n",
      "\n",
      "        accuracy                           0.32     68161\n",
      "       macro avg       0.32      0.32      0.32     68161\n",
      "    weighted avg       0.32      0.32      0.32     68161\n",
      "\n"
     ]
    }
   ],
   "source": [
    "print(classification_report(y_test,rf_pred))"
   ]
  },
  {
   "cell_type": "markdown",
   "metadata": {},
   "source": [
    "### Support Vector Machine"
   ]
  },
  {
   "cell_type": "code",
   "execution_count": 11,
   "metadata": {},
   "outputs": [],
   "source": [
    "svm = svm.SVC(kernel='poly') "
   ]
  },
  {
   "cell_type": "code",
   "execution_count": 12,
   "metadata": {},
   "outputs": [
    {
     "name": "stderr",
     "output_type": "stream",
     "text": [
      "C:\\Users\\imper\\Miniconda3\\lib\\site-packages\\sklearn\\svm\\base.py:193: FutureWarning: The default value of gamma will change from 'auto' to 'scale' in version 0.22 to account better for unscaled features. Set gamma explicitly to 'auto' or 'scale' to avoid this warning.\n",
      "  \"avoid this warning.\", FutureWarning)\n"
     ]
    }
   ],
   "source": [
    "svm.fit(x_train,y_train)   ### scale -1 to 1 for faster performance\n",
    "svm_pred = svm.predict(x_test)"
   ]
  },
  {
   "cell_type": "code",
   "execution_count": 13,
   "metadata": {},
   "outputs": [
    {
     "name": "stdout",
     "output_type": "stream",
     "text": [
      "                  precision    recall  f1-score   support\n",
      "\n",
      "     Alternative       0.25      0.22      0.23      2779\n",
      "           Anime       0.47      0.29      0.36      2681\n",
      "           Blues       0.34      0.31      0.32      2707\n",
      "Children’s Music       0.22      0.13      0.16      2806\n",
      "       Classical       0.48      0.48      0.48      2777\n",
      "          Comedy       0.96      0.93      0.95      2904\n",
      "         Country       0.25      0.38      0.30      2599\n",
      "           Dance       0.19      0.16      0.17      2610\n",
      "      Electronic       0.45      0.50      0.47      2813\n",
      "            Folk       0.24      0.30      0.27      2790\n",
      "         Hip-Hop       0.29      0.54      0.38      2788\n",
      "           Indie       0.18      0.08      0.11      2863\n",
      "            Jazz       0.31      0.36      0.34      2832\n",
      "           Movie       0.65      0.48      0.55      2342\n",
      "           Opera       0.62      0.80      0.70      2484\n",
      "             Pop       0.30      0.39      0.34      2816\n",
      "             R&B       0.20      0.20      0.20      2697\n",
      "             Rap       0.27      0.08      0.13      2770\n",
      "          Reggae       0.37      0.37      0.37      2631\n",
      "       Reggaeton       0.42      0.54      0.48      2678\n",
      "            Rock       0.27      0.32      0.30      2782\n",
      "             Ska       0.47      0.48      0.48      2662\n",
      "            Soul       0.19      0.12      0.15      2727\n",
      "      Soundtrack       0.57      0.68      0.62      2894\n",
      "           World       0.44      0.33      0.38      2729\n",
      "\n",
      "        accuracy                           0.38     68161\n",
      "       macro avg       0.38      0.38      0.37     68161\n",
      "    weighted avg       0.37      0.38      0.37     68161\n",
      "\n"
     ]
    }
   ],
   "source": [
    "print(classification_report(y_test,svm_pred))"
   ]
  },
  {
   "cell_type": "markdown",
   "metadata": {},
   "source": [
    "### Neural Network"
   ]
  },
  {
   "cell_type": "code",
   "execution_count": 14,
   "metadata": {},
   "outputs": [],
   "source": [
    "nn = MLPClassifier(hidden_layer_sizes=(10,10),max_iter=250)"
   ]
  },
  {
   "cell_type": "code",
   "execution_count": 15,
   "metadata": {},
   "outputs": [
    {
     "name": "stderr",
     "output_type": "stream",
     "text": [
      "C:\\Users\\imper\\Miniconda3\\lib\\site-packages\\sklearn\\neural_network\\multilayer_perceptron.py:566: ConvergenceWarning: Stochastic Optimizer: Maximum iterations (250) reached and the optimization hasn't converged yet.\n",
      "  % self.max_iter, ConvergenceWarning)\n"
     ]
    }
   ],
   "source": [
    "nn.fit(x_train,y_train)\n",
    "nn_pred = nn.predict(x_test)"
   ]
  },
  {
   "cell_type": "code",
   "execution_count": 16,
   "metadata": {},
   "outputs": [
    {
     "name": "stdout",
     "output_type": "stream",
     "text": [
      "                  precision    recall  f1-score   support\n",
      "\n",
      "     Alternative       0.27      0.20      0.23      2779\n",
      "           Anime       0.48      0.38      0.42      2681\n",
      "           Blues       0.37      0.26      0.31      2707\n",
      "Children’s Music       0.24      0.13      0.17      2806\n",
      "       Classical       0.52      0.57      0.54      2777\n",
      "          Comedy       0.96      0.94      0.95      2904\n",
      "         Country       0.27      0.43      0.33      2599\n",
      "           Dance       0.17      0.11      0.14      2610\n",
      "      Electronic       0.48      0.47      0.47      2813\n",
      "            Folk       0.26      0.29      0.27      2790\n",
      "         Hip-Hop       0.32      0.29      0.30      2788\n",
      "           Indie       0.20      0.11      0.14      2863\n",
      "            Jazz       0.33      0.30      0.31      2832\n",
      "           Movie       0.65      0.52      0.58      2342\n",
      "           Opera       0.69      0.84      0.76      2484\n",
      "             Pop       0.26      0.47      0.34      2816\n",
      "             R&B       0.22      0.19      0.20      2697\n",
      "             Rap       0.25      0.39      0.31      2770\n",
      "          Reggae       0.35      0.42      0.38      2631\n",
      "       Reggaeton       0.47      0.48      0.47      2678\n",
      "            Rock       0.27      0.42      0.33      2782\n",
      "             Ska       0.48      0.47      0.48      2662\n",
      "            Soul       0.22      0.10      0.14      2727\n",
      "      Soundtrack       0.56      0.67      0.61      2894\n",
      "           World       0.40      0.33      0.36      2729\n",
      "\n",
      "        accuracy                           0.39     68161\n",
      "       macro avg       0.39      0.39      0.38     68161\n",
      "    weighted avg       0.39      0.39      0.38     68161\n",
      "\n"
     ]
    }
   ],
   "source": [
    "print(classification_report(y_test,nn_pred))"
   ]
  },
  {
   "cell_type": "markdown",
   "metadata": {},
   "source": [
    "### Why is the performance so poor? "
   ]
  },
  {
   "cell_type": "markdown",
   "metadata": {},
   "source": [
    "Let's visualize the mean value of each genre across all variables, and see if the problem discovered in Part 1 extends to more variables. For that we need to get tempo and the code variables on a scale from 0 to 1 like most other variables already are."
   ]
  },
  {
   "cell_type": "code",
   "execution_count": 17,
   "metadata": {},
   "outputs": [],
   "source": [
    "df2 = df \n",
    "df2.reset_index(level=0, inplace=True)\n",
    "\n",
    "df_temp = pd.DataFrame(df2['tempo'])\n",
    "min_max_scaler = preprocessing.MinMaxScaler()\n",
    "scaled = min_max_scaler.fit_transform(df_temp)\n",
    "df2['tempo'] = pd.DataFrame(scaled)\n",
    "\n",
    "df_temp = pd.DataFrame(df2['popularity'])\n",
    "min_max_scaler = preprocessing.MinMaxScaler()\n",
    "scaled = min_max_scaler.fit_transform(df_temp)\n",
    "df2['popularity'] = pd.DataFrame(scaled)\n",
    "\n",
    "df_temp = pd.DataFrame(df2['time_signature_codes'])\n",
    "min_max_scaler = preprocessing.MinMaxScaler()\n",
    "scaled = min_max_scaler.fit_transform(df_temp)\n",
    "df2['time_signature_codes'] = pd.DataFrame(scaled)\n",
    "\n",
    "df_temp = pd.DataFrame(df2['key_codes'])\n",
    "min_max_scaler = preprocessing.MinMaxScaler()\n",
    "scaled = min_max_scaler.fit_transform(df_temp)\n",
    "df2['key_codes'] = pd.DataFrame(scaled)\n",
    "\n",
    "df2 = df2.drop(['track_id','artist_name','track_name','duration_ms','key','mode','time_signature','loudness'], axis = 1)"
   ]
  },
  {
   "cell_type": "code",
   "execution_count": 18,
   "metadata": {},
   "outputs": [],
   "source": [
    "df3 = df2.groupby(['genre']).mean()\n",
    "df3.reset_index(level=0, inplace=True)"
   ]
  },
  {
   "cell_type": "code",
   "execution_count": 19,
   "metadata": {},
   "outputs": [],
   "source": [
    "df3 = pd.melt(df3, \"genre\", var_name=\"measurement\")"
   ]
  },
  {
   "cell_type": "code",
   "execution_count": 20,
   "metadata": {},
   "outputs": [
    {
     "data": {
      "text/plain": [
       "<matplotlib.legend.Legend at 0xee45850>"
      ]
     },
     "execution_count": 20,
     "metadata": {},
     "output_type": "execute_result"
    },
    {
     "data": {
      "image/png": "[encoded data removed]",
      "text/plain": [
       "<Figure size 1080x720 with 1 Axes>"
      ]
     },
     "metadata": {
      "needs_background": "light"
     },
     "output_type": "display_data"
    }
   ],
   "source": [
    "f, ax = plt.subplots(figsize=(15, 10))\n",
    "ax.tick_params(labelsize = 8.5)\n",
    "ax.set_title('Mean of the variables per genre used to make predictions', fontsize = 15)\n",
    "sns.swarmplot(x=\"measurement\", y=\"value\", hue=\"genre\",data=df3)\n",
    "plt.legend(bbox_to_anchor=(1.05, 1), loc=2, borderaxespad=0.)\n"
   ]
  }
 ],
 "metadata": {
  "kernelspec": {
   "display_name": "Python 3",
   "language": "python",
   "name": "python3"
  },
  "language_info": {
   "codemirror_mode": {
    "name": "ipython",
    "version": 3
   },
   "file_extension": ".py",
   "mimetype": "text/x-python",
   "name": "python",
   "nbconvert_exporter": "python",
   "pygments_lexer": "ipython3",
   "version": "3.7.6"
  }
 },
 "nbformat": 4,
 "nbformat_minor": 2
}
