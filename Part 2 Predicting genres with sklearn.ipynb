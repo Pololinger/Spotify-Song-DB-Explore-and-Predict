{
 "cells": [
  {
   "cell_type": "markdown",
   "metadata": {},
   "source": [
    "# Spotify Songs  - Part 2: Genre classification with sklearn \n",
    "\n",
    "This is the second part of a project with a <a href=\"https://www.kaggle.com/zaheenhamidani/ultimate-spotify-tracks-db/data#\">dataset</a> from Spotify with 232,725 songs, with approximately 10,000 songs per genre. Part 1 explored and visualized the dataset and found that the different genres vary only little in some of the provided variables.\n",
    "\n",
    "#### Variables\n",
    "Genre: Genre of the song e.g. Rock, Rap, Electronic\n",
    "Popularity: Score from 0 to 100\n",
    "Tempo : Measured in Beats Per Minute <br>\n",
    "Energy: The energy of a song - the higher the value, the more energtic.<br>\n",
    "Danceability: The higher the value, the easier it is to dance to this song.<br>\n",
    "Loudness..dB: The higher the value, the louder the song.<br>\n",
    "Liveness: The higher the value, the more likely the song is a live recording.<br>\n",
    "Valence: The higher the value, the more positive mood for the song.<br>\n",
    "Duration_ms: The duration of the song.<br>\n",
    "Acousticness:The higher the value the more acoustic the song is.<br>\n",
    "Speechiness:The higher the value the more spoken word the song contains.<br>\n",
    "Popularity:The higher the value the more popular the song is.<br>\n",
    "key: The key the song was composed in e.g. F#, G, A#<br>\n",
    "mode: The musical scale e.g. minor or major <br>\n"
   ]
  },
  {
   "cell_type": "code",
   "execution_count": 1,
   "metadata": {},
   "outputs": [],
   "source": [
    "import pandas as pd \n",
    "import numpy as np\n",
    "import matplotlib.pyplot as plt\n",
    "import seaborn as sns\n",
    "from sklearn import preprocessing\n",
    "from sklearn.preprocessing import MinMaxScaler\n",
    "from sklearn.model_selection import train_test_split\n",
    "from sklearn.model_selection import StratifiedShuffleSplit\n",
    "from sklearn.ensemble import RandomForestClassifier\n",
    "from sklearn.ensemble import AdaBoostClassifier\n",
    "from sklearn.metrics import classification_report\n",
    "from sklearn import svm \n",
    "from sklearn.neural_network import MLPClassifier"
   ]
  },
  {
   "cell_type": "code",
   "execution_count": 2,
   "metadata": {},
   "outputs": [
    {
     "data": {
      "text/html": [
       "<div>\n",
       "<style scoped>\n",
       "    .dataframe tbody tr th:only-of-type {\n",
       "        vertical-align: middle;\n",
       "    }\n",
       "\n",
       "    .dataframe tbody tr th {\n",
       "        vertical-align: top;\n",
       "    }\n",
       "\n",
       "    .dataframe thead th {\n",
       "        text-align: right;\n",
       "    }\n",
       "</style>\n",
       "<table border=\"1\" class=\"dataframe\">\n",
       "  <thead>\n",
       "    <tr style=\"text-align: right;\">\n",
       "      <th></th>\n",
       "      <th>genre</th>\n",
       "      <th>artist_name</th>\n",
       "      <th>track_name</th>\n",
       "      <th>popularity</th>\n",
       "      <th>acousticness</th>\n",
       "      <th>danceability</th>\n",
       "      <th>duration_ms</th>\n",
       "      <th>energy</th>\n",
       "      <th>instrumentalness</th>\n",
       "      <th>key</th>\n",
       "      <th>liveness</th>\n",
       "      <th>loudness</th>\n",
       "      <th>mode</th>\n",
       "      <th>speechiness</th>\n",
       "      <th>tempo</th>\n",
       "      <th>time_signature</th>\n",
       "      <th>valence</th>\n",
       "    </tr>\n",
       "    <tr>\n",
       "      <th>track_id</th>\n",
       "      <th></th>\n",
       "      <th></th>\n",
       "      <th></th>\n",
       "      <th></th>\n",
       "      <th></th>\n",
       "      <th></th>\n",
       "      <th></th>\n",
       "      <th></th>\n",
       "      <th></th>\n",
       "      <th></th>\n",
       "      <th></th>\n",
       "      <th></th>\n",
       "      <th></th>\n",
       "      <th></th>\n",
       "      <th></th>\n",
       "      <th></th>\n",
       "      <th></th>\n",
       "    </tr>\n",
       "  </thead>\n",
       "  <tbody>\n",
       "    <tr>\n",
       "      <th>6EFsue2YbIG4Qkq8Zr9Rir</th>\n",
       "      <td>Soul</td>\n",
       "      <td>R.LUM.R</td>\n",
       "      <td>With My Words</td>\n",
       "      <td>44</td>\n",
       "      <td>0.2620</td>\n",
       "      <td>0.745</td>\n",
       "      <td>222442</td>\n",
       "      <td>0.704</td>\n",
       "      <td>0.000000</td>\n",
       "      <td>A</td>\n",
       "      <td>0.3330</td>\n",
       "      <td>-7.137</td>\n",
       "      <td>Major</td>\n",
       "      <td>0.1460</td>\n",
       "      <td>100.031</td>\n",
       "      <td>4/4</td>\n",
       "      <td>0.489</td>\n",
       "    </tr>\n",
       "    <tr>\n",
       "      <th>34XO9RwPMKjbvRry54QzWn</th>\n",
       "      <td>Soul</td>\n",
       "      <td>Mint Condition</td>\n",
       "      <td>You Don't Have To Hurt No More</td>\n",
       "      <td>35</td>\n",
       "      <td>0.0973</td>\n",
       "      <td>0.758</td>\n",
       "      <td>323027</td>\n",
       "      <td>0.470</td>\n",
       "      <td>0.000049</td>\n",
       "      <td>G#</td>\n",
       "      <td>0.0836</td>\n",
       "      <td>-6.708</td>\n",
       "      <td>Minor</td>\n",
       "      <td>0.0287</td>\n",
       "      <td>113.897</td>\n",
       "      <td>4/4</td>\n",
       "      <td>0.479</td>\n",
       "    </tr>\n",
       "  </tbody>\n",
       "</table>\n",
       "</div>"
      ],
      "text/plain": [
       "                       genre     artist_name                      track_name  \\\n",
       "track_id                                                                       \n",
       "6EFsue2YbIG4Qkq8Zr9Rir  Soul         R.LUM.R                   With My Words   \n",
       "34XO9RwPMKjbvRry54QzWn  Soul  Mint Condition  You Don't Have To Hurt No More   \n",
       "\n",
       "                        popularity  acousticness  danceability  duration_ms  \\\n",
       "track_id                                                                      \n",
       "6EFsue2YbIG4Qkq8Zr9Rir          44        0.2620         0.745       222442   \n",
       "34XO9RwPMKjbvRry54QzWn          35        0.0973         0.758       323027   \n",
       "\n",
       "                        energy  instrumentalness key  liveness  loudness  \\\n",
       "track_id                                                                   \n",
       "6EFsue2YbIG4Qkq8Zr9Rir   0.704          0.000000   A    0.3330    -7.137   \n",
       "34XO9RwPMKjbvRry54QzWn   0.470          0.000049  G#    0.0836    -6.708   \n",
       "\n",
       "                         mode  speechiness    tempo time_signature  valence  \n",
       "track_id                                                                     \n",
       "6EFsue2YbIG4Qkq8Zr9Rir  Major       0.1460  100.031            4/4    0.489  \n",
       "34XO9RwPMKjbvRry54QzWn  Minor       0.0287  113.897            4/4    0.479  "
      ]
     },
     "execution_count": 2,
     "metadata": {},
     "output_type": "execute_result"
    }
   ],
   "source": [
    "df = pd.read_csv('SpotifyFeatures.csv', index_col = \"track_id\")   \n",
    "df.tail(2)"
   ]
  },
  {
   "cell_type": "code",
   "execution_count": 3,
   "metadata": {},
   "outputs": [
    {
     "name": "stdout",
     "output_type": "stream",
     "text": [
      "The number of duplicates is: 0\n",
      "Missing values by variable:\n",
      "genre               0\n",
      "artist_name         0\n",
      "track_name          0\n",
      "popularity          0\n",
      "acousticness        0\n",
      "danceability        0\n",
      "duration_ms         0\n",
      "energy              0\n",
      "instrumentalness    0\n",
      "key                 0\n",
      "liveness            0\n",
      "loudness            0\n",
      "mode                0\n",
      "speechiness         0\n",
      "tempo               0\n",
      "time_signature      0\n",
      "valence             0\n",
      "dtype: int64\n"
     ]
    }
   ],
   "source": [
    "# checking for duplicates and missing values  \n",
    "test = df.duplicated().sum()\n",
    "print('The number of duplicates is:',test)\n",
    "\n",
    "test2 = df.isnull().sum()\n",
    "print(\"Missing values by variable:\")\n",
    "print(test2)"
   ]
  },
  {
   "cell_type": "markdown",
   "metadata": {},
   "source": [
    "#### Dropping two genres\n",
    "There are too few 'A capella' songs, and 'Children's Music' appeared twice with different spelling in the original dataset."
   ]
  },
  {
   "cell_type": "code",
   "execution_count": 4,
   "metadata": {},
   "outputs": [],
   "source": [
    "df = df[(df.genre != \"A Capella\") & (df.genre != \"Children's Music\")]\n"
   ]
  },
  {
   "cell_type": "code",
   "execution_count": 23,
   "metadata": {},
   "outputs": [
    {
     "data": {
      "text/plain": [
       "25"
      ]
     },
     "execution_count": 23,
     "metadata": {},
     "output_type": "execute_result"
    }
   ],
   "source": [
    "df['genre'].nunique()"
   ]
  },
  {
   "cell_type": "markdown",
   "metadata": {},
   "source": [
    "#### Transformation & Normalization  \n",
    "'mode'(Minor/Major), 'time_signature' (3/4, 4/4 etc.), get transformed. 'tempo' which is measured in Beats per Minute(BPM) e.g. 160 gets normalized as most other variables are already on a scale from 0 to 1. "
   ]
  },
  {
   "cell_type": "code",
   "execution_count": 5,
   "metadata": {},
   "outputs": [],
   "source": [
    "df[\"mode\"] = df[\"mode\"].astype('category')\n",
    "df['mode_codes'] = df['mode'].cat.codes\n",
    "\n",
    "df[\"time_signature\"] = df[\"time_signature\"].astype('category')\n",
    "df['time_signature_codes'] = df['time_signature'].cat.codes\n",
    "\n",
    "df[\"key\"] = df[\"key\"].astype('category')\n",
    "df['key_codes'] = df['key'].cat.codes\n",
    "\n",
    "#df = pd.get_dummies(df, columns=['key','time_signature'])   ### dummy variable"
   ]
  },
  {
   "cell_type": "markdown",
   "metadata": {},
   "source": [
    "#### Splitting the data"
   ]
  },
  {
   "cell_type": "code",
   "execution_count": 6,
   "metadata": {},
   "outputs": [
    {
     "name": "stdout",
     "output_type": "stream",
     "text": [
      "      0         1         2         3         4    5         6         7  \\\n",
      "0 -1.00  0.226908 -0.285883 -0.969710  0.821818 -1.0 -0.320772  0.801712   \n",
      "1 -0.98 -0.506024  0.146328 -0.955985  0.475465 -1.0 -0.714580  0.668938   \n",
      "\n",
      "          8         9     10   11   12        13  \n",
      "0 -0.935859  0.285408  0.628 -1.0  0.5 -0.272727  \n",
      "1 -0.863251  0.351603  0.632  1.0  0.5  0.636364  \n"
     ]
    }
   ],
   "source": [
    "Y_df = df['genre']\n",
    "\n",
    "X_df = df.drop(['genre','artist_name','track_name','mode','key','time_signature'], axis=1)\n",
    "\n",
    "\n",
    "scaling = MinMaxScaler(feature_range=(-1,1)).fit(X_df)\n",
    "X_df = scaling.transform(X_df)\n",
    "print(pd.DataFrame(X_df).head(2))"
   ]
  },
  {
   "cell_type": "code",
   "execution_count": 7,
   "metadata": {},
   "outputs": [],
   "source": [
    "x_train, x_test, y_train, y_test = train_test_split(X_df, Y_df, test_size=0.20, random_state=0)"
   ]
  },
  {
   "cell_type": "markdown",
   "metadata": {},
   "source": [
    "### Random Forest "
   ]
  },
  {
   "cell_type": "code",
   "execution_count": 8,
   "metadata": {},
   "outputs": [],
   "source": [
    "rf = RandomForestClassifier(n_estimators = 50, n_jobs=-2, max_depth = 10)"
   ]
  },
  {
   "cell_type": "code",
   "execution_count": 9,
   "metadata": {},
   "outputs": [
    {
     "data": {
      "text/plain": [
       "RandomForestClassifier(bootstrap=True, class_weight=None, criterion='gini',\n",
       "                       max_depth=10, max_features='auto', max_leaf_nodes=None,\n",
       "                       min_impurity_decrease=0.0, min_impurity_split=None,\n",
       "                       min_samples_leaf=1, min_samples_split=2,\n",
       "                       min_weight_fraction_leaf=0.0, n_estimators=50, n_jobs=-2,\n",
       "                       oob_score=False, random_state=None, verbose=0,\n",
       "                       warm_start=False)"
      ]
     },
     "execution_count": 9,
     "metadata": {},
     "output_type": "execute_result"
    }
   ],
   "source": [
    "rf.fit(x_train,y_train)"
   ]
  },
  {
   "cell_type": "code",
   "execution_count": 10,
   "metadata": {},
   "outputs": [],
   "source": [
    "rf_pred = rf.predict(x_test)"
   ]
  },
  {
   "cell_type": "code",
   "execution_count": 11,
   "metadata": {
    "scrolled": true
   },
   "outputs": [
    {
     "name": "stdout",
     "output_type": "stream",
     "text": [
      "                  precision    recall  f1-score   support\n",
      "\n",
      "     Alternative       0.28      0.19      0.22      1808\n",
      "           Anime       0.61      0.52      0.56      1814\n",
      "           Blues       0.38      0.38      0.38      1845\n",
      "Children’s Music       0.23      0.18      0.20      1846\n",
      "       Classical       0.60      0.63      0.62      1841\n",
      "          Comedy       0.98      0.94      0.96      1881\n",
      "         Country       0.34      0.33      0.34      1740\n",
      "           Dance       0.18      0.11      0.13      1758\n",
      "      Electronic       0.50      0.53      0.51      1852\n",
      "            Folk       0.24      0.37      0.29      1810\n",
      "         Hip-Hop       0.26      0.48      0.34      1844\n",
      "           Indie       0.19      0.13      0.15      1878\n",
      "            Jazz       0.40      0.31      0.35      1947\n",
      "           Movie       0.69      0.58      0.63      1561\n",
      "           Opera       0.71      0.87      0.78      1696\n",
      "             Pop       0.28      0.48      0.36      1949\n",
      "             R&B       0.23      0.15      0.19      1828\n",
      "             Rap       0.23      0.15      0.18      1843\n",
      "          Reggae       0.35      0.34      0.34      1758\n",
      "       Reggaeton       0.44      0.57      0.50      1769\n",
      "            Rock       0.26      0.44      0.32      1822\n",
      "             Ska       0.62      0.50      0.56      1801\n",
      "            Soul       0.22      0.07      0.11      1854\n",
      "      Soundtrack       0.63      0.78      0.70      1840\n",
      "           World       0.47      0.37      0.42      1856\n",
      "\n",
      "        accuracy                           0.41     45441\n",
      "       macro avg       0.41      0.42      0.41     45441\n",
      "    weighted avg       0.41      0.41      0.40     45441\n",
      "\n"
     ]
    }
   ],
   "source": [
    "print(classification_report(y_test,rf_pred))"
   ]
  },
  {
   "cell_type": "markdown",
   "metadata": {},
   "source": [
    "### AdaBoost"
   ]
  },
  {
   "cell_type": "code",
   "execution_count": 12,
   "metadata": {},
   "outputs": [],
   "source": [
    "ada = AdaBoostClassifier(n_estimators=20,base_estimator=rf2, random_state=0) "
   ]
  },
  {
   "cell_type": "code",
   "execution_count": 13,
   "metadata": {
    "scrolled": true
   },
   "outputs": [
    {
     "data": {
      "text/plain": [
       "AdaBoostClassifier(algorithm='SAMME.R',\n",
       "                   base_estimator=RandomForestClassifier(bootstrap=True,\n",
       "                                                         class_weight=None,\n",
       "                                                         criterion='gini',\n",
       "                                                         max_depth=10,\n",
       "                                                         max_features='auto',\n",
       "                                                         max_leaf_nodes=None,\n",
       "                                                         min_impurity_decrease=0.0,\n",
       "                                                         min_impurity_split=None,\n",
       "                                                         min_samples_leaf=1,\n",
       "                                                         min_samples_split=2,\n",
       "                                                         min_weight_fraction_leaf=0.0,\n",
       "                                                         n_estimators=50,\n",
       "                                                         n_jobs=-2,\n",
       "                                                         oob_score=False,\n",
       "                                                         random_state=None,\n",
       "                                                         verbose=0,\n",
       "                                                         warm_start=False),\n",
       "                   learning_rate=1.0, n_estimators=20, random_state=0)"
      ]
     },
     "execution_count": 13,
     "metadata": {},
     "output_type": "execute_result"
    }
   ],
   "source": [
    "ada.fit(x_train,y_train)\n"
   ]
  },
  {
   "cell_type": "code",
   "execution_count": 14,
   "metadata": {},
   "outputs": [
    {
     "name": "stdout",
     "output_type": "stream",
     "text": [
      "                  precision    recall  f1-score   support\n",
      "\n",
      "     Alternative       0.25      0.17      0.20      1808\n",
      "           Anime       0.67      0.56      0.61      1814\n",
      "           Blues       0.44      0.43      0.44      1845\n",
      "Children’s Music       0.18      0.15      0.17      1846\n",
      "       Classical       0.58      0.51      0.54      1841\n",
      "          Comedy       0.98      0.93      0.96      1881\n",
      "         Country       0.40      0.40      0.40      1740\n",
      "           Dance       0.18      0.19      0.19      1758\n",
      "      Electronic       0.53      0.55      0.54      1852\n",
      "            Folk       0.22      0.28      0.24      1810\n",
      "         Hip-Hop       0.30      0.37      0.33      1844\n",
      "           Indie       0.14      0.16      0.15      1878\n",
      "            Jazz       0.42      0.39      0.40      1947\n",
      "           Movie       0.66      0.61      0.63      1561\n",
      "           Opera       0.70      0.84      0.76      1696\n",
      "             Pop       0.29      0.15      0.20      1949\n",
      "             R&B       0.19      0.22      0.20      1828\n",
      "             Rap       0.23      0.30      0.26      1843\n",
      "          Reggae       0.45      0.39      0.42      1758\n",
      "       Reggaeton       0.57      0.57      0.57      1769\n",
      "            Rock       0.24      0.38      0.29      1822\n",
      "             Ska       0.63      0.56      0.60      1801\n",
      "            Soul       0.17      0.16      0.17      1854\n",
      "      Soundtrack       0.65      0.74      0.69      1840\n",
      "           World       0.56      0.41      0.47      1856\n",
      "\n",
      "        accuracy                           0.41     45441\n",
      "       macro avg       0.43      0.42      0.42     45441\n",
      "    weighted avg       0.42      0.41      0.41     45441\n",
      "\n"
     ]
    }
   ],
   "source": [
    "ada_pred = ada.predict(x_test)\n",
    "print(classification_report(y_test,ada_pred))"
   ]
  },
  {
   "cell_type": "markdown",
   "metadata": {},
   "source": [
    "### Neural Network"
   ]
  },
  {
   "cell_type": "code",
   "execution_count": 15,
   "metadata": {},
   "outputs": [],
   "source": [
    "nn = MLPClassifier(hidden_layer_sizes=(10,10),max_iter=250)"
   ]
  },
  {
   "cell_type": "code",
   "execution_count": 16,
   "metadata": {},
   "outputs": [
    {
     "name": "stderr",
     "output_type": "stream",
     "text": [
      "C:\\Users\\imper\\Miniconda3\\lib\\site-packages\\sklearn\\neural_network\\multilayer_perceptron.py:566: ConvergenceWarning: Stochastic Optimizer: Maximum iterations (250) reached and the optimization hasn't converged yet.\n",
      "  % self.max_iter, ConvergenceWarning)\n"
     ]
    }
   ],
   "source": [
    "nn.fit(x_train,y_train)\n",
    "nn_pred = nn.predict(x_test)"
   ]
  },
  {
   "cell_type": "code",
   "execution_count": 17,
   "metadata": {},
   "outputs": [
    {
     "name": "stdout",
     "output_type": "stream",
     "text": [
      "                  precision    recall  f1-score   support\n",
      "\n",
      "     Alternative       0.24      0.25      0.24      1808\n",
      "           Anime       0.53      0.51      0.52      1814\n",
      "           Blues       0.35      0.33      0.34      1845\n",
      "Children’s Music       0.27      0.12      0.17      1846\n",
      "       Classical       0.58      0.54      0.56      1841\n",
      "          Comedy       0.95      0.93      0.94      1881\n",
      "         Country       0.29      0.29      0.29      1740\n",
      "           Dance       0.19      0.09      0.12      1758\n",
      "      Electronic       0.47      0.49      0.48      1852\n",
      "            Folk       0.26      0.26      0.26      1810\n",
      "         Hip-Hop       0.29      0.48      0.36      1844\n",
      "           Indie       0.18      0.15      0.16      1878\n",
      "            Jazz       0.34      0.30      0.32      1947\n",
      "           Movie       0.65      0.55      0.59      1561\n",
      "           Opera       0.67      0.81      0.73      1696\n",
      "             Pop       0.29      0.52      0.37      1949\n",
      "             R&B       0.22      0.18      0.20      1828\n",
      "             Rap       0.26      0.15      0.19      1843\n",
      "          Reggae       0.35      0.35      0.35      1758\n",
      "       Reggaeton       0.42      0.56      0.48      1769\n",
      "            Rock       0.26      0.46      0.33      1822\n",
      "             Ska       0.53      0.55      0.54      1801\n",
      "            Soul       0.18      0.08      0.11      1854\n",
      "      Soundtrack       0.62      0.72      0.67      1840\n",
      "           World       0.45      0.35      0.39      1856\n",
      "\n",
      "        accuracy                           0.40     45441\n",
      "       macro avg       0.39      0.40      0.39     45441\n",
      "    weighted avg       0.39      0.40      0.39     45441\n",
      "\n"
     ]
    }
   ],
   "source": [
    "print(classification_report(y_test,nn_pred))"
   ]
  },
  {
   "cell_type": "markdown",
   "metadata": {},
   "source": [
    "### Why is the performance so poor? "
   ]
  },
  {
   "cell_type": "markdown",
   "metadata": {},
   "source": [
    "We see that genres that the models performed best for genres that are easy to distinguish from others, such as 'comedy' or 'opera'. However, almost all other genres (25 in total) aren't as easily distinguishable from each other with the given variables. Let's visualize the mean value of each genre across all variables, and see if the problem discovered in Part 1 extends to more variables. For that we need to get tempo and the code variables on a scale from 0 to 1 like most other variables already are."
   ]
  },
  {
   "cell_type": "code",
   "execution_count": 18,
   "metadata": {},
   "outputs": [],
   "source": [
    "df2 = df \n",
    "df2.reset_index(level=0, inplace=True)\n",
    "\n",
    "scaler = MinMaxScaler()\n",
    "\n",
    "df2[['popularity','time_signature_codes','key_codes','tempo','loudness']] = scaler.fit_transform(df2[['popularity','time_signature_codes','key_codes','tempo','loudness']])\n",
    "df2 = df2.drop(['track_id','artist_name','track_name','duration_ms','key','mode','time_signature'], axis = 1)"
   ]
  },
  {
   "cell_type": "code",
   "execution_count": 20,
   "metadata": {},
   "outputs": [],
   "source": [
    "df3 = df2.groupby(['genre']).mean()\n",
    "df3.reset_index(level=0, inplace=True)"
   ]
  },
  {
   "cell_type": "code",
   "execution_count": 21,
   "metadata": {},
   "outputs": [],
   "source": [
    "df3 = pd.melt(df3, \"genre\", var_name=\"measurement\")"
   ]
  },
  {
   "cell_type": "code",
   "execution_count": 22,
   "metadata": {
    "scrolled": false
   },
   "outputs": [
    {
     "data": {
      "text/plain": [
       "<matplotlib.legend.Legend at 0x26af5ab0>"
      ]
     },
     "execution_count": 22,
     "metadata": {},
     "output_type": "execute_result"
    },
    {
     "data": {
      "image/png": "[encoded data removed]",
      "text/plain": [
       "<Figure size 1080x720 with 1 Axes>"
      ]
     },
     "metadata": {
      "needs_background": "light"
     },
     "output_type": "display_data"
    }
   ],
   "source": [
    "f, ax = plt.subplots(figsize=(15, 10))\n",
    "ax.tick_params(labelsize = 8.5)\n",
    "ax.set_title('Mean of the variables per genre used to make predictions', fontsize = 15)\n",
    "sns.swarmplot(x=\"measurement\", y=\"value\", hue=\"genre\",data=df3)\n",
    "plt.legend(bbox_to_anchor=(1.05, 1), loc=2, borderaxespad=0.)\n"
   ]
  },
  {
   "cell_type": "code",
   "execution_count": null,
   "metadata": {},
   "outputs": [],
   "source": []
  }
 ],
 "metadata": {
  "kernelspec": {
   "display_name": "Python 3",
   "language": "python",
   "name": "python3"
  },
  "language_info": {
   "codemirror_mode": {
    "name": "ipython",
    "version": 3
   },
   "file_extension": ".py",
   "mimetype": "text/x-python",
   "name": "python",
   "nbconvert_exporter": "python",
   "pygments_lexer": "ipython3",
   "version": "3.7.6"
  }
 },
 "nbformat": 4,
 "nbformat_minor": 2
}
